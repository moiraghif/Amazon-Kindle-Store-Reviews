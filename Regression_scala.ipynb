{
 "cells": [
  {
   "cell_type": "code",
   "execution_count": 1,
   "metadata": {},
   "outputs": [
    {
     "data": {
      "text/plain": [
       "import org.apache.spark.sql.SparkSession\n",
       "import org.apache.spark.sql.DataFrame\n",
       "import org.apache.spark.sql.types._\n",
       "import org.apache.spark.sql.functions._\n",
       "import org.apache.spark.ml.Pipeline\n",
       "import org.apache.spark.ml.Model\n",
       "import org.apache.spark.ml.classification.{LogisticRegression, RandomForestClassifier}\n",
       "import org.apache.spark.ml.evaluation.{BinaryClassificationEvaluator, MulticlassClassificationEvaluator}\n",
       "import org.apache.spark.ml.feature.Binarizer\n",
       "import org.apache.spark.ml.feature.{RegexTokenizer, NGram}\n",
       "import org.apache.spark.ml.feature.{HashingTF, IDF}\n",
       "import org.apache.spark.ml.tuning.{CrossValidator, ParamGridBuilder}\n"
      ]
     },
     "execution_count": 1,
     "metadata": {},
     "output_type": "execute_result"
    }
   ],
   "source": [
    "import org.apache.spark.sql.SparkSession;\n",
    "\n",
    "//import statistics.functions._;\n",
    "\n",
    "import org.apache.spark.sql.DataFrame;\n",
    "import org.apache.spark.sql.types._;\n",
    "import org.apache.spark.sql.functions._;\n",
    "import org.apache.spark.ml.Pipeline;\n",
    "import org.apache.spark.ml.Model;\n",
    "import org.apache.spark.ml.classification.{LogisticRegression, RandomForestClassifier};\n",
    "import org.apache.spark.ml.evaluation.{BinaryClassificationEvaluator,MulticlassClassificationEvaluator};\n",
    "import org.apache.spark.ml.feature.Binarizer;\n",
    "import org.apache.spark.ml.feature.{RegexTokenizer, NGram};\n",
    "import org.apache.spark.ml.feature.{HashingTF, IDF};\n",
    "import org.apache.spark.ml.tuning.{CrossValidator, ParamGridBuilder};"
   ]
  },
  {
   "cell_type": "code",
   "execution_count": 3,
   "metadata": {},
   "outputs": [
    {
     "data": {
      "text/plain": [
       "path: String = hdfs://localhost:9000/TextMining/tokens/\n",
       "original_schema: org.apache.spark.sql.types.StructType = StructType(StructField(product,StringType,true), StructField(votes,IntegerType,true), StructField(rate,DoubleType,true), StructField(original_text,StringType,true), StructField(text,StringType,true), StructField(summary,StringType,true))\n",
       "original_data: org.apache.spark.sql.DataFrame = [product: string, votes: int ... 4 more fields]\n"
      ]
     },
     "execution_count": 3,
     "metadata": {},
     "output_type": "execute_result"
    }
   ],
   "source": [
    "val path: String = \"hdfs://localhost:9000/TextMining/tokens/\";\n",
    "\n",
    "// \"rate\" must be Double because it can be easily binarized by Spark\n",
    "val original_schema = new StructType(Array(\n",
    "  StructField(\"product\",          StringType,  true),\n",
    "  StructField(\"votes\",            IntegerType, true),\n",
    "  StructField(\"rate\",             DoubleType,  true),\n",
    "  StructField(\"original_text\",    StringType,  true),\n",
    "  StructField(\"text\",             StringType,  true),\n",
    "  StructField(\"summary\",          StringType,  true)));\n",
    "\n",
    "val original_data:DataFrame = spark.read\n",
    "  .options(Map(\"delimiter\" -> \"\\t\"))\n",
    "  .schema(original_schema)\n",
    "  .csv(path)\n",
    "  .na.drop();"
   ]
  },
  {
   "cell_type": "code",
   "execution_count": 4,
   "metadata": {},
   "outputs": [
    {
     "name": "stdout",
     "output_type": "stream",
     "text": [
      "+----------+-----+----+--------------------+--------------------+--------------------+\n",
      "|   product|votes|rate|       original_text|                text|             summary|\n",
      "+----------+-----+----+--------------------+--------------------+--------------------+\n",
      "|0143065971|    4| 5.0|This is a masterp...|masterpiec someon...|Fantastic Book Ab...|\n",
      "|0143065971|    1| 5.0|Great condition a...| great condit great |          Five Stars|\n",
      "|1423600150|    1| 5.0|Excellent book on...|excel sauc fun tr...|           excellent|\n",
      "|1423600150|    1| 5.0|          Great book|              great |          Five Stars|\n",
      "|1423600150|    1| 5.0|   Great mexi stuff.|   great mexi stuff |          Five Stars|\n",
      "+----------+-----+----+--------------------+--------------------+--------------------+\n",
      "only showing top 5 rows\n",
      "\n"
     ]
    }
   ],
   "source": [
    "original_data.show(5)"
   ]
  },
  {
   "cell_type": "code",
   "execution_count": 4,
   "metadata": {},
   "outputs": [],
   "source": [
    "/* original_data.select(\"summary\",\"rate\",\"votes\")\n",
    " *    .groupBy(\"summary\")\n",
    " *    .agg(mean(\"rate\"), mean(\"votes\"), count(\"summary\"))\n",
    " *   .orderBy(desc(\"count(summary)\"))\n",
    " */"
   ]
  },
  {
   "cell_type": "code",
   "execution_count": 5,
   "metadata": {},
   "outputs": [
    {
     "data": {
      "text/plain": [
       "binarizer: org.apache.spark.ml.feature.Binarizer = Binarizer: uid=binarizer_f6c1a0c2d18d\n",
       "tokenizer: org.apache.spark.ml.feature.RegexTokenizer = regexTok_c5e5c52b6619\n",
       "ngrams: org.apache.spark.ml.feature.NGram = NGram: uid=ngram_5145290d4b78, n=2\n",
       "tf: org.apache.spark.ml.feature.HashingTF = HashingTF: uid=hashingTF_3d6a0d0708ea, binary=false, numFeatures=262144\n",
       "idf: org.apache.spark.ml.feature.IDF = idf_c79ca263202a\n",
       "classifierMod: org.apache.spark.ml.classification.LogisticRegression = logreg_337cbecdac6b\n",
       "pipeline: org.apache.spark.ml.Pipeline = pipeline_0abfdf22723d\n",
       "paramGrid: Array[org.apache.spark.ml.param.ParamMap] =\n",
       "Array({\n",
       "\tngram_5145290d4b78-n: 1,\n",
       "\tlogreg_337cbecdac6b-regParam: 0.01\n",
       "}, {\n",
       "\tngram_5145290d4b78-n: 2,\n",
       "\tlogreg_337cbecdac6b-regParam: 0.01\n",
       "}, {\n",
       "\tngram_5145290d4b78-n: 3,\n",
       "\tl...\n"
      ]
     },
     "execution_count": 5,
     "metadata": {},
     "output_type": "execute_result"
    }
   ],
   "source": [
    "val binarizer = new Binarizer()\n",
    "  .setInputCol(\"rate\")\n",
    "  .setOutputCol(\"label\")\n",
    "  .setThreshold(3.5);\n",
    "\n",
    "// get n-grams\n",
    "val tokenizer = new RegexTokenizer()\n",
    "  .setInputCol(\"text\")\n",
    "  .setOutputCol(\"tokens\")\n",
    "  .setPattern(\"\\\\W\");\n",
    "val ngrams = new NGram()\n",
    "  .setInputCol(tokenizer.getOutputCol)\n",
    "  .setOutputCol(\"n-grams\");\n",
    "\n",
    "// calc tf-idf \n",
    "val tf = new HashingTF()\n",
    "  .setInputCol(ngrams.getOutputCol)\n",
    "  .setOutputCol(\"tf\");\n",
    "val idf = new IDF()\n",
    "  .setInputCol(tf.getOutputCol)\n",
    "  .setOutputCol(\"tf-idf\")\n",
    "  .setMinDocFreq(3);\n",
    "\n",
    "// build the classifier\n",
    "val classifierMod = new LogisticRegression()\n",
    "  .setMaxIter(10)\n",
    "  .setFeaturesCol(idf.getOutputCol)\n",
    "  .setLabelCol(binarizer.getOutputCol);\n",
    "\n",
    "// this is the pipeline that data follows to be evaluated\n",
    "val pipeline = new Pipeline()\n",
    "  .setStages(Array(binarizer, tokenizer, ngrams, tf, idf, classifierMod));\n",
    "\n",
    "// a little of optimization: try different hyperparameters\n",
    "val paramGrid = new ParamGridBuilder()\n",
    "  .addGrid(classifierMod.regParam, Array(0.01, 0.05, 0.1))\n",
    "  .addGrid(ngrams.n, Array(1, 2, 3))\n",
    "  .build();\n",
    "\n",
    "// do it with a cross validation on the train set (3 folds)\n",
    "val cv = new CrossValidator()\n",
    "  .setEstimator(pipeline)\n",
    "  .setEvaluator(new BinaryClassificationEvaluator)\n",
    "  .setEstimatorParamMaps(paramGrid)\n",
    "  .setNumFolds(3);"
   ]
  },
  {
   "cell_type": "code",
   "execution_count": 6,
   "metadata": {},
   "outputs": [],
   "source": [
    "// spark.sql(\"SELECT summary, COUNT(*) FROM original_data\")"
   ]
  },
  {
   "cell_type": "code",
   "execution_count": 7,
   "metadata": {},
   "outputs": [
    {
     "name": "stdout",
     "output_type": "stream",
     "text": [
      "Training... \n",
      "done!\n",
      "\n",
      "\n",
      "\n",
      "{\n",
      "\tngram_5145290d4b78-n: 1,\n",
      "\tlogreg_337cbecdac6b-regParam: 0.01\n",
      "}\n",
      "0.9019483361008155\n",
      "\n",
      "\n",
      "\n",
      "{\n",
      "\tngram_5145290d4b78-n: 2,\n",
      "\tlogreg_337cbecdac6b-regParam: 0.01\n",
      "}\n",
      "0.8985675928328255\n",
      "\n",
      "\n",
      "\n",
      "{\n",
      "\tngram_5145290d4b78-n: 3,\n",
      "\tlogreg_337cbecdac6b-regParam: 0.01\n",
      "}\n",
      "0.7627563338905388\n",
      "\n",
      "\n",
      "\n",
      "{\n",
      "\tngram_5145290d4b78-n: 1,\n",
      "\tlogreg_337cbecdac6b-regParam: 0.05\n",
      "}\n",
      "0.9036257241517349\n",
      "\n",
      "\n",
      "\n",
      "{\n",
      "\tngram_5145290d4b78-n: 2,\n",
      "\tlogreg_337cbecdac6b-regParam: 0.05\n",
      "}\n",
      "0.9044877488592841\n",
      "\n",
      "\n",
      "\n",
      "{\n",
      "\tngram_5145290d4b78-n: 3,\n",
      "\tlogreg_337cbecdac6b-regParam: 0.05\n",
      "}\n",
      "0.7693852143472046\n",
      "\n",
      "\n",
      "\n",
      "{\n",
      "\tngram_5145290d4b78-n: 1,\n",
      "\tlogreg_337cbecdac6b-regParam: 0.1\n",
      "}\n",
      "0.9034636511888169\n",
      "\n",
      "\n",
      "\n",
      "{\n",
      "\tngram_5145290d4b78-n: 2,\n",
      "\tlogreg_337cbecdac6b-regParam: 0.1\n",
      "}\n",
      "0.906886374283741\n",
      "\n",
      "\n",
      "\n",
      "{\n",
      "\tngram_5145290d4b78-n: 3,\n",
      "\tlogreg_337cbecdac6b-regParam: 0.1\n",
      "}\n",
      "0.7727091640831082\n"
     ]
    },
    {
     "data": {
      "text/plain": [
       "model: org.apache.spark.ml.tuning.CrossValidatorModel = CrossValidatorModel: uid=cv_02ece6023b0e, bestModel=pipeline_0abfdf22723d, numFolds=3\n"
      ]
     },
     "execution_count": 7,
     "metadata": {},
     "output_type": "execute_result"
    }
   ],
   "source": [
    "println(\"Training... \");\n",
    "val model = cv.fit(original_data);\n",
    "println(\"done!\");\n",
    "\n",
    "// print results\n",
    "for (i <- 0 until model.avgMetrics.size) {\n",
    "  println(\"\\n\\n\");\n",
    "  println(model.getEstimatorParamMaps(i));\n",
    "  println(model.avgMetrics(i));\n",
    "}"
   ]
  },
  {
   "cell_type": "markdown",
   "metadata": {},
   "source": [
    "# Random forest multiclassifier"
   ]
  },
  {
   "cell_type": "code",
   "execution_count": 11,
   "metadata": {},
   "outputs": [
    {
     "data": {
      "text/plain": [
       "tokenizer: org.apache.spark.ml.feature.RegexTokenizer = regexTok_45f24f1e0b77\n",
       "ngrams: org.apache.spark.ml.feature.NGram = NGram: uid=ngram_9e38137db5e3, n=2\n",
       "tf: org.apache.spark.ml.feature.HashingTF = HashingTF: uid=hashingTF_71d6484d363e, binary=false, numFeatures=262144\n",
       "idf: org.apache.spark.ml.feature.IDF = idf_69ddbc2541bb\n",
       "classifierMod: org.apache.spark.ml.classification.RandomForestClassifier = rfc_72eb5de8f492\n",
       "pipeline: org.apache.spark.ml.Pipeline = pipeline_2abf875b320e\n",
       "paramGrid: Array[org.apache.spark.ml.param.ParamMap] =\n",
       "Array({\n",
       "\tngram_9e38137db5e3-n: 1,\n",
       "\trfc_72eb5de8f492-numTrees: 3\n",
       "}, {\n",
       "\tngram_9e38137db5e3-n: 2,\n",
       "\trfc_72eb5de8f492-numTrees: 3\n",
       "}, {\n",
       "\tngram_9e38137db5e3-n: 3,\n",
       "\trfc_72eb5de8f492-numTrees: 3\n",
       "}, {\n",
       "\tngram_9e38137db5e3-n: 1,\n",
       "\trfc_72eb5de8f492-numTrees: 10\n",
       "}, {\n",
       "\tngra...\n"
      ]
     },
     "execution_count": 11,
     "metadata": {},
     "output_type": "execute_result"
    }
   ],
   "source": [
    "// get n-grams\n",
    "val tokenizer = new RegexTokenizer()\n",
    "  .setInputCol(\"text\")\n",
    "  .setOutputCol(\"tokens\")\n",
    "  .setPattern(\"\\\\W\");\n",
    "val ngrams = new NGram()\n",
    "  .setInputCol(tokenizer.getOutputCol)\n",
    "  .setOutputCol(\"n-grams\");\n",
    "\n",
    "// calc tf-idf \n",
    "val tf = new HashingTF()\n",
    "  .setInputCol(ngrams.getOutputCol)\n",
    "  .setOutputCol(\"tf\");\n",
    "val idf = new IDF()\n",
    "  .setInputCol(tf.getOutputCol)\n",
    "  .setOutputCol(\"tf-idf\")\n",
    "  .setMinDocFreq(3);\n",
    "\n",
    "// build the classifier\n",
    "val classifierMod = new RandomForestClassifier()\n",
    "  .setFeaturesCol(idf.getOutputCol)\n",
    "  .setLabelCol(\"rate\");\n",
    "\n",
    "// this is the pipeline that data follows to be evaluated\n",
    "val pipeline = new Pipeline()\n",
    "  .setStages(Array(tokenizer, ngrams, tf, idf, classifierMod));\n",
    "\n",
    "// a little of optimization: try different hyperparameters\n",
    "val paramGrid = new ParamGridBuilder()\n",
    "  .addGrid(classifierMod.numTrees, Array(3, 10, 20, 50, 100))\n",
    "  .addGrid(ngrams.n, Array(1, 2, 3))\n",
    "  .build();\n",
    "\n",
    "val evaluator = new MulticlassClassificationEvaluator().setLabelCol(\"rate\")\n",
    "\n",
    "// do it with a cross validation on the train set (3 folds)\n",
    "val cv = new CrossValidator()\n",
    "  .setEstimator(pipeline)\n",
    "  .setEvaluator(evaluator)\n",
    "  .setEstimatorParamMaps(paramGrid)\n",
    "  .setNumFolds(3);"
   ]
  },
  {
   "cell_type": "code",
   "execution_count": null,
   "metadata": {},
   "outputs": [
    {
     "name": "stdout",
     "output_type": "stream",
     "text": [
      "Training... "
     ]
    }
   ],
   "source": [
    "print(\"Training... \");\n",
    "val model = cv.fit(original_data)\n",
    "print(\"done!\")"
   ]
  }
 ],
 "metadata": {
  "kernelspec": {
   "display_name": "spylon-kernel",
   "language": "scala",
   "name": "spylon-kernel"
  },
  "language_info": {
   "codemirror_mode": "text/x-scala",
   "file_extension": ".scala",
   "help_links": [
    {
     "text": "MetaKernel Magics",
     "url": "https://metakernel.readthedocs.io/en/latest/source/README.html"
    }
   ],
   "mimetype": "text/x-scala",
   "name": "scala",
   "pygments_lexer": "scala",
   "version": "0.4.1"
  },
  "name": "Regression_scala.ipynb"
 },
 "nbformat": 4,
 "nbformat_minor": 4
}
