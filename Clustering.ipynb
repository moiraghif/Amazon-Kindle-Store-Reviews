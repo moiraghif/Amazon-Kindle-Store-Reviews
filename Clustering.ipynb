{
 "cells": [
  {
   "cell_type": "code",
   "execution_count": 1,
   "metadata": {},
   "outputs": [],
   "source": [
    "from pyspark.sql import SQLContext, SparkSession\n",
    "from pyspark.sql.types import *\n",
    "import pyspark.sql.functions as sqlF\n",
    "from pyspark import SparkContext, SparkConf"
   ]
  },
  {
   "cell_type": "code",
   "execution_count": 2,
   "metadata": {},
   "outputs": [],
   "source": [
    "from pyspark.ml.clustering import LDA, KMeans, BisectingKMeans, GaussianMixture\n",
    "from pyspark.ml.evaluation import ClusteringEvaluator\n",
    "\n",
    "from pyspark.ml.feature import HashingTF, IDF, RegexTokenizer, NGram\n",
    "from pyspark.ml import Pipeline\n",
    "\n",
    "from pyspark.ml.feature import IndexToString, StringIndexer, VectorIndexer, CountVectorizer\n",
    "\n",
    "from pyspark.ml.linalg import Vectors\n",
    "from pyspark.ml.stat import Correlation\n",
    "from pyspark.ml.feature import MinMaxScaler, VectorAssembler"
   ]
  },
  {
   "cell_type": "code",
   "execution_count": 18,
   "metadata": {},
   "outputs": [],
   "source": [
    "from sparknlp.annotator import Stemmer, Tokenizer, Normalizer"
   ]
  },
  {
   "cell_type": "code",
   "execution_count": 3,
   "metadata": {},
   "outputs": [],
   "source": [
    "import matplotlib.pyplot as plt\n",
    "import seaborn as sns\n",
    "\n",
    "%matplotlib inline"
   ]
  },
  {
   "cell_type": "code",
   "execution_count": 4,
   "metadata": {},
   "outputs": [],
   "source": [
    "conf = SparkConf().setAll([('spark.executor.memory', '5g'), ('spark.driver.memory','5g')])\n",
    "\n",
    "my_spark = SparkSession \\\n",
    "    .builder.master('local[*]') \\\n",
    "    .appName(\"ClusterApp\")\\\n",
    "    .config(conf=conf)\\\n",
    "    .getOrCreate()\n",
    "\n",
    "#.builder.master('local[*]')\\ #should use when using docker\n",
    "\n",
    "sqlContext = SQLContext(my_spark)"
   ]
  },
  {
   "cell_type": "code",
   "execution_count": 5,
   "metadata": {},
   "outputs": [],
   "source": [
    "schema = StructType([StructField(\"product\", StringType(), True),\n",
    "         StructField(\"votes\", IntegerType(), True),\n",
    "         StructField(\"rate\", DoubleType(), True),\n",
    "         StructField(\"text\", StringType(), True)])\n",
    "\n",
    "csv_reader = sqlContext.read.\\\n",
    "                options(header='false', \n",
    "                inferschema='false',\n",
    "                delimiter=\"\\t\").\\\n",
    "                schema(schema)"
   ]
  },
  {
   "cell_type": "code",
   "execution_count": 6,
   "metadata": {},
   "outputs": [],
   "source": [
    "#for i in range(17):\n",
    "#    print(\"Reading file:\",i)\n",
    "#    if i<10:\n",
    "#        file = \"hdfs://localhost:9000/TextMining/tokens/part-0000\"+str(i)\n",
    "#    else:\n",
    "#        file = \"hdfs://localhost:9000/TextMining/tokens/part-000\"+str(i)\n",
    "#    df = csv_reader.csv(file)\n",
    "#    if i == 0:\n",
    "#        df1 = df\n",
    "#    else:\n",
    "#        df1 = df1.union(df)\n",
    "\n",
    "df = csv_reader.csv(\"hdfs://localhost:9000/TextMining/tokens/part-*\").na.drop()"
   ]
  },
  {
   "cell_type": "code",
   "execution_count": 10,
   "metadata": {},
   "outputs": [
    {
     "data": {
      "text/plain": [
       "5467380"
      ]
     },
     "execution_count": 10,
     "metadata": {},
     "output_type": "execute_result"
    }
   ],
   "source": [
    "df.count()"
   ]
  },
  {
   "cell_type": "code",
   "execution_count": 9,
   "metadata": {},
   "outputs": [
    {
     "name": "stdout",
     "output_type": "stream",
     "text": [
      "+----------+-----+----+--------------------+\n",
      "|   product|votes|rate|                text|\n",
      "+----------+-----+----+--------------------+\n",
      "|B01CT5KLIY|    1| 4.0|love idea two wom...|\n",
      "|B01CT5KQMA|    1| 5.0|must veri well gr...|\n",
      "|B01CT5KQMA|    1| 5.0|charact likabl pl...|\n",
      "|B01CT6LRK4|    1| 4.0|abl final sit sur...|\n",
      "|B01CT6LRK4|    1| 2.0|few basic tip say...|\n",
      "+----------+-----+----+--------------------+\n",
      "only showing top 5 rows\n",
      "\n"
     ]
    }
   ],
   "source": [
    "df.show(5)"
   ]
  },
  {
   "cell_type": "code",
   "execution_count": 10,
   "metadata": {
    "scrolled": true
   },
   "outputs": [],
   "source": [
    "df.createTempView('data')"
   ]
  },
  {
   "cell_type": "code",
   "execution_count": 11,
   "metadata": {},
   "outputs": [
    {
     "name": "stdout",
     "output_type": "stream",
     "text": [
      "+----------+-----+----+--------------------+\n",
      "|   product|votes|rate|                text|\n",
      "+----------+-----+----+--------------------+\n",
      "|B00C2WDD5I|  991| 4.0|money atlanti gen...|\n",
      "|B000GFK7L6|  986| 4.0|updat novemb orig...|\n",
      "|B00C2WDD5I|  970| 1.0|honest onli thing...|\n",
      "|B003ICWE92|  908| 1.0|ann green gabl se...|\n",
      "|B00SRY5F8I|  904| 5.0|not rememb buy ap...|\n",
      "|B00EOARZ4G|  842| 5.0|first reader revi...|\n",
      "|B006PJ3UKC|  798| 5.0|noth good thing s...|\n",
      "|B00DMCV7K0|  797| 1.0|soon start read n...|\n",
      "|B00D01TYQ2|  784| 1.0|no way affili new...|\n",
      "|B00WCD5GYS|  770| 5.0|reread first time...|\n",
      "|B004KZPK6K|  770| 5.0|money war peac le...|\n",
      "|B004KKY782|  763| 1.0|well base star en...|\n",
      "|B006PJ3UKC|  751| 5.0|app beauti well d...|\n",
      "|B017X1K7X8|  748| 4.0|hello soon gre te...|\n",
      "|B00YN6XHMU|  747| 1.0|new doorstopp el ...|\n",
      "|B00XSSYR50|  745| 5.0|sometim not go fi...|\n",
      "|B00R7HDLAU|  721| 1.0|major spoiler con...|\n",
      "|B0142IHZPI|  713| 4.0|first thought ver...|\n",
      "|B000FDJ0FS|  696| 1.0|realli nice wsj d...|\n",
      "|B00C2WDD5I|  678| 5.0|swear finish day ...|\n",
      "+----------+-----+----+--------------------+\n",
      "only showing top 20 rows\n",
      "\n"
     ]
    }
   ],
   "source": [
    "sqlContext.sql(\"SELECT * FROM data WHERE votes>1 ORDER BY votes DESC\").show()"
   ]
  },
  {
   "cell_type": "markdown",
   "metadata": {},
   "source": [
    "# Preprocessing"
   ]
  },
  {
   "cell_type": "code",
   "execution_count": 11,
   "metadata": {},
   "outputs": [],
   "source": [
    "tokenizer = RegexTokenizer(inputCol=\"text\", outputCol=\"words\", pattern=\"\\\\W\")\n",
    "ngram = NGram(n=1, inputCol=\"words\", outputCol=\"n-gram\")\n",
    "tf = HashingTF(inputCol=\"n-gram\", outputCol=\"tf\")\n",
    "idf = IDF(inputCol=\"tf\", outputCol=\"features\", minDocFreq=3)\n",
    "\n",
    "pipeline = Pipeline(stages=[tokenizer, ngram, tf,idf])"
   ]
  },
  {
   "cell_type": "code",
   "execution_count": 12,
   "metadata": {},
   "outputs": [],
   "source": [
    "mod1 = pipeline.fit(df)"
   ]
  },
  {
   "cell_type": "code",
   "execution_count": 13,
   "metadata": {},
   "outputs": [],
   "source": [
    "df2 = mod1.transform(df)"
   ]
  },
  {
   "cell_type": "code",
   "execution_count": 14,
   "metadata": {},
   "outputs": [
    {
     "name": "stdout",
     "output_type": "stream",
     "text": [
      "+--------------------+--------------------+--------------------+\n",
      "|               words|                  tf|            features|\n",
      "+--------------------+--------------------+--------------------+\n",
      "|[love, idea, two,...|(262144,[30289,30...|(262144,[30289,30...|\n",
      "|[must, veri, well...|(262144,[54961,77...|(262144,[54961,77...|\n",
      "|[charact, likabl,...|(262144,[10920,16...|(262144,[10920,16...|\n",
      "|[abl, final, sit,...|(262144,[36319,56...|(262144,[36319,56...|\n",
      "|[few, basic, tip,...|(262144,[12472,82...|(262144,[12472,82...|\n",
      "|[best, world, suc...|(262144,[60080,16...|(262144,[60080,16...|\n",
      "|[complet, guid, s...|(262144,[43379,80...|(262144,[43379,80...|\n",
      "|[again, veri, ent...|(262144,[45843,86...|(262144,[45843,86...|\n",
      "|[great, social, s...|(262144,[71895,26...|(262144,[71895,26...|\n",
      "|[wonder, tip, mus...|(262144,[82032,13...|(262144,[82032,13...|\n",
      "|       [nice, pleas]|(262144,[22346,16...|(262144,[22346,16...|\n",
      "|[well, connect, a...|(262144,[71895,72...|(262144,[71895,72...|\n",
      "|[great, new, styl...|(262144,[32890,89...|(262144,[32890,89...|\n",
      "|        [veri, good]|(262144,[86925,11...|(262144,[86925,11...|\n",
      "|[guid, develop, p...|(262144,[71895,80...|(262144,[71895,80...|\n",
      "|             [motiv]|(262144,[168754],...|(262144,[168754],...|\n",
      "|             [motiv]|(262144,[168754],...|(262144,[168754],...|\n",
      "|[hatt, keep, writ...|(262144,[32890,54...|(262144,[32890,54...|\n",
      "|[veri, good, moti...|(262144,[86925,11...|(262144,[86925,11...|\n",
      "|[repres, definit,...|(262144,[15867,16...|(262144,[15867,16...|\n",
      "+--------------------+--------------------+--------------------+\n",
      "only showing top 20 rows\n",
      "\n"
     ]
    }
   ],
   "source": [
    "df2.select('words','tf','features').show()"
   ]
  },
  {
   "cell_type": "markdown",
   "metadata": {},
   "source": [
    "# Cluster k-means"
   ]
  },
  {
   "cell_type": "code",
   "execution_count": 24,
   "metadata": {},
   "outputs": [
    {
     "name": "stdout",
     "output_type": "stream",
     "text": [
      "For k = 2 Silhouette = 0.7815706866702458\n",
      "For k = 3 Silhouette = 0.6029164804608521\n",
      "For k = 4 Silhouette = 0.5880022411586225\n",
      "For k = 5 Silhouette = 0.6171905664869811\n",
      "For k = 6 Silhouette = 0.5456673525728564\n"
     ]
    }
   ],
   "source": [
    "evaluator = ClusteringEvaluator()\n",
    "sil_res = []\n",
    "for k in range(2,7):\n",
    "    clus = KMeans().setK(k)\n",
    "    mod3 = clus.fit(df2)\n",
    "    df3 = mod3.transform(df2)\n",
    "    silhouette = evaluator.evaluate(df3)\n",
    "    sil_res.append(silhouette)\n",
    "    print(\"For k =\",k,\"Silhouette = \" + str(silhouette))"
   ]
  },
  {
   "cell_type": "code",
   "execution_count": 45,
   "metadata": {},
   "outputs": [
    {
     "data": {
      "image/png": "[encoded data removed]",
      "text/plain": [
       "<Figure size 504x360 with 1 Axes>"
      ]
     },
     "metadata": {
      "needs_background": "light"
     },
     "output_type": "display_data"
    }
   ],
   "source": [
    "plt.figure(figsize=(7,5))\n",
    "sns.lineplot(list(range(2,7)),sil_res)\n",
    "sns.scatterplot(list(range(2,7)),sil_res)\n",
    "sns.scatterplot(list(range(2,3)), sil_res[0], s=100)\n",
    "plt.xlabel('number of clusters')\n",
    "plt.ylabel('Silhouette')\n",
    "plt.title('Optimal k for clustering')\n",
    "plt.xticks(list(range(2,7)))\n",
    "plt.show()"
   ]
  },
  {
   "cell_type": "code",
   "execution_count": 46,
   "metadata": {},
   "outputs": [],
   "source": [
    "#3 is the best\n",
    "evaluator = ClusteringEvaluator()\n",
    "clus = KMeans().setK(2)\n",
    "cluster_model = clus.fit(df2)\n",
    "#silhouette = evaluator.evaluate(df4)"
   ]
  },
  {
   "cell_type": "code",
   "execution_count": 47,
   "metadata": {},
   "outputs": [],
   "source": [
    "df3 = cluster_model.transform(df2)"
   ]
  },
  {
   "cell_type": "code",
   "execution_count": 48,
   "metadata": {},
   "outputs": [
    {
     "name": "stdout",
     "output_type": "stream",
     "text": [
      "+----------+-----+----+--------------------+--------------------+--------------------+--------------------+--------------------+----------+\n",
      "|   product|votes|rate|                text|               words|              n-gram|                  tf|            features|prediction|\n",
      "+----------+-----+----+--------------------+--------------------+--------------------+--------------------+--------------------+----------+\n",
      "|B01CT5KLIY|    1| 4.0|love idea two wom...|[love, idea, two,...|[love, idea, two,...|(262144,[30289,30...|(262144,[30289,30...|         0|\n",
      "|B01CT5KQMA|    1| 5.0|must veri well gr...|[must, veri, well...|[must, veri, well...|(262144,[54961,77...|(262144,[54961,77...|         0|\n",
      "|B01CT5KQMA|    1| 5.0|charact likabl pl...|[charact, likabl,...|[charact, likabl,...|(262144,[10920,16...|(262144,[10920,16...|         0|\n",
      "+----------+-----+----+--------------------+--------------------+--------------------+--------------------+--------------------+----------+\n",
      "only showing top 3 rows\n",
      "\n"
     ]
    }
   ],
   "source": [
    "df3.show(3)"
   ]
  },
  {
   "cell_type": "code",
   "execution_count": 49,
   "metadata": {},
   "outputs": [
    {
     "name": "stdout",
     "output_type": "stream",
     "text": [
      "+----------+-----+----+--------------------+----------+\n",
      "|   product|votes|rate|                text|prediction|\n",
      "+----------+-----+----+--------------------+----------+\n",
      "|B01CT5KLIY|    1| 4.0|love idea two wom...|         0|\n",
      "|B01CT5KQMA|    1| 5.0|must veri well gr...|         0|\n",
      "|B01CT5KQMA|    1| 5.0|charact likabl pl...|         0|\n",
      "|B01CT6LRK4|    1| 4.0|abl final sit sur...|         0|\n",
      "|B01CT6LRK4|    1| 2.0|few basic tip say...|         0|\n",
      "|B01CT6LRK4|    1| 5.0| best world success |         0|\n",
      "|B01CT6LRK4|    1| 5.0|complet guid succ...|         0|\n",
      "|B01CT6LRK4|    1| 5.0|again veri entert...|         0|\n",
      "|B01CT6LRK4|    1| 5.0|great social succ...|         0|\n",
      "|B01CT6LRK4|    1| 5.0|wonder tip must e...|         0|\n",
      "|B01CT6LRK4|    1| 5.0|         nice pleas |         0|\n",
      "|B01CT6LRK4|    1| 5.0|well connect aspe...|         0|\n",
      "|B01CT6LRK4|    1| 4.0|great new style w...|         0|\n",
      "|B01CT6LRK4|    1| 4.0|          veri good |         0|\n",
      "|B01CT6LRK4|    1| 5.0|guid develop pers...|         0|\n",
      "|B01CT6LRK4|    1| 5.0|              motiv |         0|\n",
      "|B01CT6LRK4|    1| 4.0|              motiv |         0|\n",
      "|B01CT6LRK4|    1| 5.0|hatt keep write w...|         0|\n",
      "|B01CT6LRK4|    1| 5.0|veri good motiv h...|         0|\n",
      "|B01CT6LRK4|    1| 5.0|repres definit fo...|         0|\n",
      "+----------+-----+----+--------------------+----------+\n",
      "only showing top 20 rows\n",
      "\n"
     ]
    }
   ],
   "source": [
    "df3.select('product','votes','rate','text','prediction').show()"
   ]
  },
  {
   "cell_type": "code",
   "execution_count": 50,
   "metadata": {},
   "outputs": [],
   "source": [
    "df3.select('product','votes','rate','text','prediction').write.mode('overwrite').options(header='true').csv('hdfs://localhost:9000/TextMining/tokens/clustered')"
   ]
  },
  {
   "cell_type": "code",
   "execution_count": 51,
   "metadata": {},
   "outputs": [],
   "source": [
    "res = df3.select(\"rate\",\"prediction\").toPandas()"
   ]
  },
  {
   "cell_type": "code",
   "execution_count": 52,
   "metadata": {},
   "outputs": [
    {
     "data": {
      "text/plain": [
       "0    5070874\n",
       "1     396506\n",
       "Name: prediction, dtype: int64"
      ]
     },
     "execution_count": 52,
     "metadata": {},
     "output_type": "execute_result"
    }
   ],
   "source": [
    "res.prediction.value_counts()"
   ]
  },
  {
   "cell_type": "code",
   "execution_count": 57,
   "metadata": {
    "scrolled": true
   },
   "outputs": [
    {
     "data": {
      "image/png": "[encoded data removed]",
      "text/plain": [
       "<Figure size 432x288 with 1 Axes>"
      ]
     },
     "metadata": {
      "needs_background": "light"
     },
     "output_type": "display_data"
    }
   ],
   "source": [
    "sns.distplot(res.rate, norm_hist=True, kde=False)\n",
    "plt.show()"
   ]
  },
  {
   "cell_type": "code",
   "execution_count": 54,
   "metadata": {},
   "outputs": [],
   "source": [
    "assembler = VectorAssembler(inputCols=['votes','rate','prediction'], outputCol=\"corr_features\")\n",
    "corr_df = assembler.transform(df3)\n",
    "pearsonCorr = Correlation.corr(corr_df, 'corr_features', 'pearson').collect()"
   ]
  },
  {
   "cell_type": "code",
   "execution_count": 55,
   "metadata": {},
   "outputs": [
    {
     "data": {
      "image/png": "[encoded data removed]",
      "text/plain": [
       "<Figure size 360x360 with 2 Axes>"
      ]
     },
     "metadata": {
      "needs_background": "light"
     },
     "output_type": "display_data"
    }
   ],
   "source": [
    "plt.figure(figsize=(5, 5))\n",
    "sns.heatmap(pearsonCorr[0][0].values.reshape(3,3), \n",
    "            vmax=1, vmin=-1, annot=True,annot_kws={'color':'black'},\n",
    "            xticklabels=['votes','rate','cluster'], \n",
    "            yticklabels=['votes','rate','cluster'], \n",
    "            center=0, cmap=\"PiYG\")\n",
    "plt.show()"
   ]
  },
  {
   "cell_type": "code",
   "execution_count": 56,
   "metadata": {
    "scrolled": true
   },
   "outputs": [
    {
     "name": "stdout",
     "output_type": "stream",
     "text": [
      "+----------+-----------------+---------------+\n",
      "|prediction|        avg(rate)|avg(prediction)|\n",
      "+----------+-----------------+---------------+\n",
      "|         1|4.220120250387132|            1.0|\n",
      "|         0|4.307110766309713|            0.0|\n",
      "+----------+-----------------+---------------+\n",
      "\n"
     ]
    }
   ],
   "source": [
    "df3.select(['rate','prediction']).groupBy('prediction').mean().show()"
   ]
  },
  {
   "cell_type": "markdown",
   "metadata": {},
   "source": [
    "# LDA"
   ]
  },
  {
   "cell_type": "code",
   "execution_count": 7,
   "metadata": {},
   "outputs": [],
   "source": [
    "tokenizer = RegexTokenizer(inputCol=\"text\", outputCol=\"words\", pattern=\"\\\\W\")\n",
    "ngram = NGram(n=1, inputCol=\"words\", outputCol=\"n-gram\")\n",
    "tf = CountVectorizer(inputCol=\"n-gram\", outputCol=\"tf\")\n",
    "idf = IDF(inputCol=\"tf\", outputCol=\"features\", minDocFreq=3)\n",
    "\n",
    "pipeline = Pipeline(stages=[tokenizer, ngram, tf,idf])\n",
    "\n",
    "pipe_mod = pipeline.fit(df)\n",
    "\n",
    "df2 = pipe_mod.transform(df)"
   ]
  },
  {
   "cell_type": "code",
   "execution_count": 12,
   "metadata": {},
   "outputs": [],
   "source": [
    "lda = LDA(k=20, maxIter=10)"
   ]
  },
  {
   "cell_type": "code",
   "execution_count": 13,
   "metadata": {},
   "outputs": [],
   "source": [
    "model = lda.fit(df2)"
   ]
  },
  {
   "cell_type": "code",
   "execution_count": 14,
   "metadata": {},
   "outputs": [
    {
     "name": "stdout",
     "output_type": "stream",
     "text": [
      "topic 1: ['chloe', 'brad', 'not', 'billi', 'gon', 'stori', 'na', 'great', 'one', 'interest']\n",
      "topic 2: ['chris', 'quinn', 'stephani', 'riley', 'maddi', 'finn', 'eden', 'stori', 'love', 'not']\n",
      "topic 3: ['stori', 'not', 'charact', 'enjoy', 'seri', 'good', 'end', 'love', 'veri', 'short']\n",
      "topic 4: ['ok', 'jane', 'austen', 'stori', 'victoria', 'love', 'not', 'great', 'ha', 'tucker']\n",
      "topic 5: ['love', 'not', 'stori', 'life', 'one', 'get', 'feel', 'want', 'heart', 'like']\n",
      "topic 6: ['love', 'matt', 'not', 'stori', 'get', 'one', 'like', 'nathan', 'shade', 'grey']\n",
      "topic 7: ['bear', 'seri', 'love', 'not', 'zombi', 'one', 'game', 'stori', 'find', 'like']\n",
      "topic 8: ['not', 'fairi', 'stori', 'like', 'love', 'vampir', 'one', 'get', 'know', 'natali']\n",
      "topic 9: ['love', 'not', 'want', 'seri', 'stori', 'one', 'get', 'wait', 'ca', 'see']\n",
      "topic 10: ['seri', 'forward', 'enjoy', 'charact', 'love', 'look', 'entertain', 'read', 'stori', 'great']\n",
      "topic 11: ['stori', 'christian', 'world', 'life', 'reader', 'well', 'love', 'young', 'charact', 'novel']\n",
      "topic 12: ['money', 'help', 'inform', 'use', 'life', 'not', 'veri', 'work', 'understand', 'god']\n",
      "topic 13: ['seri', 'not', 'stori', 'next', 'put', 'love', 'wait', 'keep', 'great', 'kept']\n",
      "topic 14: ['jake', 'good', 'not', 'veri', 'love', 'stori', 'read', 'recommend', 'emili', 'great']\n",
      "topic 15: ['not', 'stori', 'charact', 'like', 'one', 'money', 'time', 'realli', 'get', 'even']\n",
      "topic 16: ['money', 'not', 'use', 'war', 'good', 'like', 'one', 'well', 'no', 'great']\n",
      "topic 17: ['recip', 'food', 'diet', 'eat', 'dog', 'cook', 'not', 'tri', 'make', 'easi']\n",
      "topic 18: ['money', 'stori', 'not', 'nate', 'like', 'news', 'veri', 'interest', 'first', 'one']\n",
      "topic 19: ['cowboy', 'nick', 'ranch', 'love', 'jenna', 'not', 'stori', 'town', 'william', 'life']\n",
      "topic 20: ['luca', 'predict', 'tyler', 'jax', 'not', 'ryan', 'blah', 'love', 'mia', 'oil']\n"
     ]
    }
   ],
   "source": [
    "vocab = pipe_mod.stages[-2].vocabulary\n",
    "\n",
    "# Next, let's grab the topics generated by our LDA model via describeTopics(). Using collect(),\n",
    "# we load the output into a Python array.\n",
    "raw_topics = model.describeTopics().collect()\n",
    "\n",
    "# Lastly, let's get the indices of the vocabulary terms from our topics\n",
    "topic_inds = [ind.termIndices for ind in raw_topics]\n",
    "\n",
    "# The indices we just grab directly map to the term at position <ind> from our vocabulary. \n",
    "# Using the below code, we can generate the mappings from our topic indices to our vocabulary.\n",
    "topics = []\n",
    "for topic in topic_inds:\n",
    "    _topic = []\n",
    "    for ind in topic:\n",
    "        _topic.append(vocab[ind])\n",
    "    topics.append(_topic)\n",
    "\n",
    "# Let's see our topics!\n",
    "for i, topic in enumerate(topics, start=1):\n",
    "    print(f\"topic {i}: {topic}\")"
   ]
  },
  {
   "cell_type": "markdown",
   "metadata": {},
   "source": [
    "# Sentiment with TextBlob"
   ]
  },
  {
   "cell_type": "code",
   "execution_count": 17,
   "metadata": {},
   "outputs": [],
   "source": [
    "df = csv_reader.csv(\"hdfs://localhost:9000/TextMining/cleaned_data/part-*\").na.drop()"
   ]
  },
  {
   "cell_type": "code",
   "execution_count": 18,
   "metadata": {},
   "outputs": [
    {
     "name": "stdout",
     "output_type": "stream",
     "text": [
      "+----------+-----+----+--------------------+\n",
      "|   product|votes|rate|                text|\n",
      "+----------+-----+----+--------------------+\n",
      "|0143065971|    1| 5.0|Great condition a...|\n",
      "|0143065971|    4| 5.0|This is a masterp...|\n",
      "|1423600150|    1| 5.0|Great little cook...|\n",
      "|1423600150|    1| 5.0|   Great mexi stuff.|\n",
      "|1423600150|    1| 5.0|          Great book|\n",
      "|1423600150|    1| 5.0|Excellent book on...|\n",
      "|1423600150|    1| 3.0|It is rather disa...|\n",
      "|1423600150|    1| 5.0|Some unique and d...|\n",
      "|1423600150|    1| 5.0|Excellent book ri...|\n",
      "|1423600150|    1| 5.0|Going to a favori...|\n",
      "|1423600150|   16| 5.0|Many people are s...|\n",
      "|1423600150|    4| 3.0|I admire the SF S...|\n",
      "|1423600150|    1| 5.0|This book has goo...|\n",
      "|1423600150|    1| 4.0|If you like makin...|\n",
      "|1423600150|    4| 5.0|great little book...|\n",
      "|1423600150|    1| 4.0|The Mailman seeme...|\n",
      "|1423600150|    1| 5.0|I usually make up...|\n",
      "|1423600150|    1| 1.0|No color photos. ...|\n",
      "|1423600150|    1| 5.0|VERY GOOD READING...|\n",
      "|1423600150|    1| 1.0|Recipes are good ...|\n",
      "+----------+-----+----+--------------------+\n",
      "only showing top 20 rows\n",
      "\n"
     ]
    }
   ],
   "source": [
    "df.show()"
   ]
  },
  {
   "cell_type": "code",
   "execution_count": 21,
   "metadata": {},
   "outputs": [
    {
     "data": {
      "text/plain": [
       "<bound method DataFrame.printSchema of DataFrame[product: string, votes: int, rate: double, text: string]>"
      ]
     },
     "execution_count": 21,
     "metadata": {},
     "output_type": "execute_result"
    }
   ],
   "source": [
    "df.printSchema()"
   ]
  },
  {
   "cell_type": "code",
   "execution_count": 19,
   "metadata": {},
   "outputs": [],
   "source": [
    "from textblob import TextBlob\n",
    "\n",
    "def sentiment_analysis(text):\n",
    "    return TextBlob(text).sentiment.polarity\n",
    "\n",
    "sentiment_udf = sqlF.udf(sentiment_analysis , FloatType())"
   ]
  },
  {
   "cell_type": "code",
   "execution_count": 24,
   "metadata": {},
   "outputs": [],
   "source": [
    "df = df.withColumn(\"sentiment_score\", sentiment_udf(df['text']))"
   ]
  },
  {
   "cell_type": "code",
   "execution_count": 26,
   "metadata": {},
   "outputs": [
    {
     "name": "stdout",
     "output_type": "stream",
     "text": [
      "+----------+-----+----+--------------------+---------------+\n",
      "|   product|votes|rate|                text|sentiment_score|\n",
      "+----------+-----+----+--------------------+---------------+\n",
      "|0143065971|    1| 5.0|Great condition a...|            0.9|\n",
      "|0143065971|    4| 5.0|This is a masterp...|     0.11708705|\n",
      "|1423600150|    1| 5.0|Great little cook...|       0.340625|\n",
      "|1423600150|    1| 5.0|   Great mexi stuff.|            0.8|\n",
      "|1423600150|    1| 5.0|          Great book|            0.8|\n",
      "|1423600150|    1| 5.0|Excellent book on...|           0.65|\n",
      "|1423600150|    1| 3.0|It is rather disa...|    0.036666665|\n",
      "|1423600150|    1| 5.0|Some unique and d...|         0.6875|\n",
      "|1423600150|    1| 5.0|Excellent book ri...|     0.64285713|\n",
      "|1423600150|    1| 5.0|Going to a favori...|            0.5|\n",
      "|1423600150|   16| 5.0|Many people are s...|     0.27673653|\n",
      "|1423600150|    4| 3.0|I admire the SF S...|          -0.75|\n",
      "|1423600150|    1| 5.0|This book has goo...|     0.56666666|\n",
      "|1423600150|    1| 4.0|If you like makin...|            0.4|\n",
      "|1423600150|    4| 5.0|great little book...|     0.27117348|\n",
      "|1423600150|    1| 4.0|The Mailman seeme...|            0.5|\n",
      "|1423600150|    1| 5.0|I usually make up...|      0.3810606|\n",
      "|1423600150|    1| 1.0|No color photos. ...|            0.0|\n",
      "|1423600150|    1| 5.0|VERY GOOD READING...|          0.542|\n",
      "|1423600150|    1| 1.0|Recipes are good ...|    -0.20296296|\n",
      "+----------+-----+----+--------------------+---------------+\n",
      "only showing top 20 rows\n",
      "\n"
     ]
    }
   ],
   "source": [
    "df.show()"
   ]
  },
  {
   "cell_type": "code",
   "execution_count": 28,
   "metadata": {},
   "outputs": [],
   "source": [
    "assembler = VectorAssembler(inputCols=['votes','rate','sentiment_score'], outputCol=\"corr_features\")\n",
    "\n",
    "corr_df = assembler.transform(df)\n",
    "pearsonCorr = Correlation.corr(corr_df, 'corr_features', 'pearson').collect()"
   ]
  },
  {
   "cell_type": "code",
   "execution_count": 29,
   "metadata": {},
   "outputs": [
    {
     "data": {
      "image/png": "[encoded data removed]",
      "text/plain": [
       "<Figure size 360x360 with 2 Axes>"
      ]
     },
     "metadata": {
      "needs_background": "light"
     },
     "output_type": "display_data"
    }
   ],
   "source": [
    "plt.figure(figsize=(5, 5))\n",
    "sns.heatmap(pearsonCorr[0][0].values.reshape(3,3), \n",
    "            vmax=1, vmin=-1, annot=True,annot_kws={'color':'black'},\n",
    "            xticklabels=['votes','rate','sentiment'], \n",
    "            yticklabels=['votes','rate','sentiment'], \n",
    "            center=0, cmap=\"PiYG\")\n",
    "plt.show()"
   ]
  },
  {
   "cell_type": "code",
   "execution_count": 35,
   "metadata": {},
   "outputs": [
    {
     "name": "stdout",
     "output_type": "stream",
     "text": [
      "+----+------------------+--------------------+\n",
      "|rate|        avg(votes)|avg(sentiment_score)|\n",
      "+----+------------------+--------------------+\n",
      "| 1.0|3.3596850028055645|-0.01607412162580...|\n",
      "| 4.0|1.4177290404419742|  0.2772317332324222|\n",
      "| 3.0|1.7377818403412553| 0.18949055701067982|\n",
      "| 2.0|2.5251020121007457| 0.07714642109464315|\n",
      "| 5.0|1.5615217834308246| 0.33499123732359426|\n",
      "+----+------------------+--------------------+\n",
      "\n"
     ]
    }
   ],
   "source": [
    "df.select('votes','rate','sentiment_score').groupBy('rate').mean('votes','sentiment_score').show()"
   ]
  }
 ],
 "metadata": {
  "kernelspec": {
   "display_name": "Python 3",
   "language": "python",
   "name": "python3"
  },
  "language_info": {
   "codemirror_mode": {
    "name": "ipython",
    "version": 3
   },
   "file_extension": ".py",
   "mimetype": "text/x-python",
   "name": "python",
   "nbconvert_exporter": "python",
   "pygments_lexer": "ipython3",
   "version": "3.7.5"
  }
 },
 "nbformat": 4,
 "nbformat_minor": 2
}
