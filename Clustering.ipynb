{
 "cells": [
  {
   "cell_type": "code",
   "execution_count": 1,
   "metadata": {},
   "outputs": [],
   "source": [
    "from pyspark.sql import SQLContext, SparkSession\n",
    "from pyspark.sql.types import *\n",
    "import pyspark.sql.functions as sqlF\n",
    "from pyspark import SparkContext, SparkConf"
   ]
  },
  {
   "cell_type": "code",
   "execution_count": 2,
   "metadata": {},
   "outputs": [],
   "source": [
    "from pyspark.ml.clustering import LDA, KMeans, BisectingKMeans, GaussianMixture\n",
    "from pyspark.ml.evaluation import ClusteringEvaluator\n",
    "\n",
    "from pyspark.ml.feature import HashingTF, IDF, RegexTokenizer, NGram\n",
    "from pyspark.ml import Pipeline\n",
    "\n",
    "from pyspark.ml.feature import IndexToString, StringIndexer, VectorIndexer\n",
    "\n",
    "from pyspark.ml.linalg import Vectors\n",
    "from pyspark.ml.stat import Correlation\n",
    "from pyspark.ml.feature import MinMaxScaler, VectorAssembler"
   ]
  },
  {
   "cell_type": "code",
   "execution_count": 3,
   "metadata": {},
   "outputs": [],
   "source": [
    "import matplotlib.pyplot as plt\n",
    "import seaborn as sns\n",
    "\n",
    "%matplotlib inline"
   ]
  },
  {
   "cell_type": "code",
   "execution_count": 4,
   "metadata": {},
   "outputs": [],
   "source": [
    "import findspark\n",
    "findspark.init()"
   ]
  },
  {
   "cell_type": "code",
   "execution_count": 5,
   "metadata": {},
   "outputs": [],
   "source": [
    "#conf = SparkConf().setAll([('spark.executor.memory', '5g'), ('spark.driver.memory','5g')])\n",
    "\n",
    "my_spark = SparkSession \\\n",
    "    .builder.master('local[*]') \\\n",
    "    .appName(\"ClusterApp\")\\\n",
    "    .getOrCreate()\n",
    "\n",
    "#.builder.master('local[*]')\\ #should use when using docker\n",
    "\n",
    "sqlContext = SQLContext(my_spark)"
   ]
  },
  {
   "cell_type": "code",
   "execution_count": 6,
   "metadata": {},
   "outputs": [],
   "source": [
    "schema = StructType([StructField(\"product\", StringType(), True),\n",
    "         StructField(\"votes\", IntegerType(), True),\n",
    "         StructField(\"rate\", DoubleType(), True),\n",
    "         StructField(\"text\", StringType(), True)])\n",
    "\n",
    "csv_reader = sqlContext.read.\\\n",
    "                options(header='false', \n",
    "                inferschema='false',\n",
    "                delimiter=\"\\t\").\\\n",
    "                schema(schema)"
   ]
  },
  {
   "cell_type": "code",
   "execution_count": 7,
   "metadata": {},
   "outputs": [],
   "source": [
    "#for i in range(17):\n",
    "#    print(\"Reading file:\",i)\n",
    "#    if i<10:\n",
    "#        file = \"hdfs://localhost:9000/TextMining/tokens/part-0000\"+str(i)\n",
    "#    else:\n",
    "#        file = \"hdfs://localhost:9000/TextMining/tokens/part-000\"+str(i)\n",
    "#    df = csv_reader.csv(file)\n",
    "#    if i == 0:\n",
    "#        df1 = df\n",
    "#    else:\n",
    "#        df1 = df1.union(df)\n",
    "\n",
    "df = csv_reader.csv(\"hdfs://localhost:9000/TextMining/tokens/part-*\").na.drop()"
   ]
  },
  {
   "cell_type": "code",
   "execution_count": 8,
   "metadata": {},
   "outputs": [
    {
     "data": {
      "text/plain": [
       "5467380"
      ]
     },
     "execution_count": 8,
     "metadata": {},
     "output_type": "execute_result"
    }
   ],
   "source": [
    "df.count()"
   ]
  },
  {
   "cell_type": "code",
   "execution_count": 9,
   "metadata": {},
   "outputs": [
    {
     "name": "stdout",
     "output_type": "stream",
     "text": [
      "+----------+-----+----+--------------------+\n",
      "|   product|votes|rate|                text|\n",
      "+----------+-----+----+--------------------+\n",
      "|B01CT5KLIY|    1| 4.0|love idea two wom...|\n",
      "|B01CT5KQMA|    1| 5.0|must veri well gr...|\n",
      "|B01CT5KQMA|    1| 5.0|charact likabl pl...|\n",
      "|B01CT6LRK4|    1| 4.0|abl final sit sur...|\n",
      "|B01CT6LRK4|    1| 2.0|few basic tip say...|\n",
      "+----------+-----+----+--------------------+\n",
      "only showing top 5 rows\n",
      "\n"
     ]
    }
   ],
   "source": [
    "df.show(5)"
   ]
  },
  {
   "cell_type": "code",
   "execution_count": 10,
   "metadata": {
    "scrolled": true
   },
   "outputs": [],
   "source": [
    "df.createTempView('data')"
   ]
  },
  {
   "cell_type": "code",
   "execution_count": 11,
   "metadata": {},
   "outputs": [
    {
     "name": "stdout",
     "output_type": "stream",
     "text": [
      "+----------+-----+----+--------------------+\n",
      "|   product|votes|rate|                text|\n",
      "+----------+-----+----+--------------------+\n",
      "|B00C2WDD5I|  991| 4.0|money atlanti gen...|\n",
      "|B000GFK7L6|  986| 4.0|updat novemb orig...|\n",
      "|B00C2WDD5I|  970| 1.0|honest onli thing...|\n",
      "|B003ICWE92|  908| 1.0|ann green gabl se...|\n",
      "|B00SRY5F8I|  904| 5.0|not rememb buy ap...|\n",
      "|B00EOARZ4G|  842| 5.0|first reader revi...|\n",
      "|B006PJ3UKC|  798| 5.0|noth good thing s...|\n",
      "|B00DMCV7K0|  797| 1.0|soon start read n...|\n",
      "|B00D01TYQ2|  784| 1.0|no way affili new...|\n",
      "|B00WCD5GYS|  770| 5.0|reread first time...|\n",
      "|B004KZPK6K|  770| 5.0|money war peac le...|\n",
      "|B004KKY782|  763| 1.0|well base star en...|\n",
      "|B006PJ3UKC|  751| 5.0|app beauti well d...|\n",
      "|B017X1K7X8|  748| 4.0|hello soon gre te...|\n",
      "|B00YN6XHMU|  747| 1.0|new doorstopp el ...|\n",
      "|B00XSSYR50|  745| 5.0|sometim not go fi...|\n",
      "|B00R7HDLAU|  721| 1.0|major spoiler con...|\n",
      "|B0142IHZPI|  713| 4.0|first thought ver...|\n",
      "|B000FDJ0FS|  696| 1.0|realli nice wsj d...|\n",
      "|B00C2WDD5I|  678| 5.0|swear finish day ...|\n",
      "+----------+-----+----+--------------------+\n",
      "only showing top 20 rows\n",
      "\n"
     ]
    }
   ],
   "source": [
    "sqlContext.sql(\"SELECT * FROM data WHERE votes>1 ORDER BY votes DESC\").show()"
   ]
  },
  {
   "cell_type": "code",
   "execution_count": 12,
   "metadata": {},
   "outputs": [
    {
     "data": {
      "text/plain": [
       "730890"
      ]
     },
     "execution_count": 12,
     "metadata": {},
     "output_type": "execute_result"
    }
   ],
   "source": [
    "sqlContext.sql(\"SELECT * FROM data WHERE votes>1\").count()"
   ]
  },
  {
   "cell_type": "markdown",
   "metadata": {},
   "source": [
    "# Preprocessing"
   ]
  },
  {
   "cell_type": "code",
   "execution_count": 13,
   "metadata": {},
   "outputs": [],
   "source": [
    "tokenizer = RegexTokenizer(inputCol=\"text\", outputCol=\"words\", pattern=\"\\\\W\")\n",
    "ngram = NGram(n=1, inputCol=\"words\", outputCol=\"n-gram\")\n",
    "tf = HashingTF(inputCol=\"n-gram\", outputCol=\"tf\")\n",
    "idf = IDF(inputCol=\"tf\", outputCol=\"features\", minDocFreq=3)\n",
    "\n",
    "pipeline = Pipeline(stages=[tokenizer, ngram, tf,idf])"
   ]
  },
  {
   "cell_type": "code",
   "execution_count": 14,
   "metadata": {},
   "outputs": [],
   "source": [
    "mod1 = pipeline.fit(df)"
   ]
  },
  {
   "cell_type": "code",
   "execution_count": 15,
   "metadata": {},
   "outputs": [],
   "source": [
    "df2 = mod1.transform(df)"
   ]
  },
  {
   "cell_type": "code",
   "execution_count": 16,
   "metadata": {},
   "outputs": [
    {
     "name": "stdout",
     "output_type": "stream",
     "text": [
      "+--------------------+--------------------+--------------------+\n",
      "|               words|                  tf|            features|\n",
      "+--------------------+--------------------+--------------------+\n",
      "|[love, idea, two,...|(262144,[30289,30...|(262144,[30289,30...|\n",
      "|[must, veri, well...|(262144,[54961,77...|(262144,[54961,77...|\n",
      "|[charact, likabl,...|(262144,[10920,16...|(262144,[10920,16...|\n",
      "|[abl, final, sit,...|(262144,[36319,56...|(262144,[36319,56...|\n",
      "|[few, basic, tip,...|(262144,[12472,82...|(262144,[12472,82...|\n",
      "|[best, world, suc...|(262144,[60080,16...|(262144,[60080,16...|\n",
      "|[complet, guid, s...|(262144,[43379,80...|(262144,[43379,80...|\n",
      "|[again, veri, ent...|(262144,[45843,86...|(262144,[45843,86...|\n",
      "|[great, social, s...|(262144,[71895,26...|(262144,[71895,26...|\n",
      "|[wonder, tip, mus...|(262144,[82032,13...|(262144,[82032,13...|\n",
      "|       [nice, pleas]|(262144,[22346,16...|(262144,[22346,16...|\n",
      "|[well, connect, a...|(262144,[71895,72...|(262144,[71895,72...|\n",
      "|[great, new, styl...|(262144,[32890,89...|(262144,[32890,89...|\n",
      "|        [veri, good]|(262144,[86925,11...|(262144,[86925,11...|\n",
      "|[guid, develop, p...|(262144,[71895,80...|(262144,[71895,80...|\n",
      "|             [motiv]|(262144,[168754],...|(262144,[168754],...|\n",
      "|             [motiv]|(262144,[168754],...|(262144,[168754],...|\n",
      "|[hatt, keep, writ...|(262144,[32890,54...|(262144,[32890,54...|\n",
      "|[veri, good, moti...|(262144,[86925,11...|(262144,[86925,11...|\n",
      "|[repres, definit,...|(262144,[15867,16...|(262144,[15867,16...|\n",
      "+--------------------+--------------------+--------------------+\n",
      "only showing top 20 rows\n",
      "\n"
     ]
    }
   ],
   "source": [
    "df2.select('words','tf','features').show()"
   ]
  },
  {
   "cell_type": "markdown",
   "metadata": {},
   "source": [
    "# Cluster k-means"
   ]
  },
  {
   "cell_type": "code",
   "execution_count": 15,
   "metadata": {},
   "outputs": [
    {
     "name": "stdout",
     "output_type": "stream",
     "text": [
      "For k= 2 Silhouette = 0.7823365398533508\n",
      "For k= 3 Silhouette = 0.7870275788558053\n",
      "For k= 4 Silhouette = 0.7176003947437463\n",
      "For k= 5 Silhouette = 0.6232596807330575\n",
      "For k= 6 Silhouette = 0.5677034840644087\n",
      "For k= 7 Silhouette = 0.6326736648530189\n"
     ]
    },
    {
     "ename": "Py4JJavaError",
     "evalue": "An error occurred while calling o649.fit.\n: org.apache.spark.SparkException: Job aborted due to stage failure: Task 49 in stage 416.0 failed 1 times, most recent failure: Lost task 49.0 in stage 416.0 (TID 51149, 192.168.1.222, executor driver): java.lang.OutOfMemoryError: Java heap space\n\tat java.lang.reflect.Array.newInstance(Array.java:75)\n\tat java.io.ObjectInputStream.readArray(ObjectInputStream.java:1883)\n\tat java.io.ObjectInputStream.readObject0(ObjectInputStream.java:1529)\n\tat java.io.ObjectInputStream.defaultReadFields(ObjectInputStream.java:2231)\n\tat java.io.ObjectInputStream.readSerialData(ObjectInputStream.java:2155)\n\tat java.io.ObjectInputStream.readOrdinaryObject(ObjectInputStream.java:2013)\n\tat java.io.ObjectInputStream.readObject0(ObjectInputStream.java:1535)\n\tat java.io.ObjectInputStream.readArray(ObjectInputStream.java:1919)\n\tat java.io.ObjectInputStream.readObject0(ObjectInputStream.java:1529)\n\tat java.io.ObjectInputStream.defaultReadFields(ObjectInputStream.java:2231)\n\tat java.io.ObjectInputStream.readSerialData(ObjectInputStream.java:2155)\n\tat java.io.ObjectInputStream.readOrdinaryObject(ObjectInputStream.java:2013)\n\tat java.io.ObjectInputStream.readObject0(ObjectInputStream.java:1535)\n\tat java.io.ObjectInputStream.defaultReadFields(ObjectInputStream.java:2231)\n\tat java.io.ObjectInputStream.readSerialData(ObjectInputStream.java:2155)\n\tat java.io.ObjectInputStream.readOrdinaryObject(ObjectInputStream.java:2013)\n\tat java.io.ObjectInputStream.readObject0(ObjectInputStream.java:1535)\n\tat java.io.ObjectInputStream.readArray(ObjectInputStream.java:1919)\n\tat java.io.ObjectInputStream.readObject0(ObjectInputStream.java:1529)\n\tat java.io.ObjectInputStream.defaultReadFields(ObjectInputStream.java:2231)\n\tat java.io.ObjectInputStream.readSerialData(ObjectInputStream.java:2155)\n\tat java.io.ObjectInputStream.readOrdinaryObject(ObjectInputStream.java:2013)\n\tat java.io.ObjectInputStream.readObject0(ObjectInputStream.java:1535)\n\tat java.io.ObjectInputStream.readArray(ObjectInputStream.java:1919)\n\tat java.io.ObjectInputStream.readObject0(ObjectInputStream.java:1529)\n\tat java.io.ObjectInputStream.defaultReadFields(ObjectInputStream.java:2231)\n\tat java.io.ObjectInputStream.readSerialData(ObjectInputStream.java:2155)\n\tat java.io.ObjectInputStream.readOrdinaryObject(ObjectInputStream.java:2013)\n\tat java.io.ObjectInputStream.readObject0(ObjectInputStream.java:1535)\n\tat java.io.ObjectInputStream.defaultReadFields(ObjectInputStream.java:2231)\n\tat java.io.ObjectInputStream.readSerialData(ObjectInputStream.java:2155)\n\tat java.io.ObjectInputStream.readOrdinaryObject(ObjectInputStream.java:2013)\n\nDriver stacktrace:\n\tat org.apache.spark.scheduler.DAGScheduler.failJobAndIndependentStages(DAGScheduler.scala:1989)\n\tat org.apache.spark.scheduler.DAGScheduler.$anonfun$abortStage$2(DAGScheduler.scala:1977)\n\tat org.apache.spark.scheduler.DAGScheduler.$anonfun$abortStage$2$adapted(DAGScheduler.scala:1976)\n\tat scala.collection.mutable.ResizableArray.foreach(ResizableArray.scala:62)\n\tat scala.collection.mutable.ResizableArray.foreach$(ResizableArray.scala:55)\n\tat scala.collection.mutable.ArrayBuffer.foreach(ArrayBuffer.scala:49)\n\tat org.apache.spark.scheduler.DAGScheduler.abortStage(DAGScheduler.scala:1976)\n\tat org.apache.spark.scheduler.DAGScheduler.$anonfun$handleTaskSetFailed$1(DAGScheduler.scala:956)\n\tat org.apache.spark.scheduler.DAGScheduler.$anonfun$handleTaskSetFailed$1$adapted(DAGScheduler.scala:956)\n\tat scala.Option.foreach(Option.scala:407)\n\tat org.apache.spark.scheduler.DAGScheduler.handleTaskSetFailed(DAGScheduler.scala:956)\n\tat org.apache.spark.scheduler.DAGSchedulerEventProcessLoop.doOnReceive(DAGScheduler.scala:2206)\n\tat org.apache.spark.scheduler.DAGSchedulerEventProcessLoop.onReceive(DAGScheduler.scala:2155)\n\tat org.apache.spark.scheduler.DAGSchedulerEventProcessLoop.onReceive(DAGScheduler.scala:2144)\n\tat org.apache.spark.util.EventLoop$$anon$1.run(EventLoop.scala:49)\n\tat org.apache.spark.scheduler.DAGScheduler.runJob(DAGScheduler.scala:758)\n\tat org.apache.spark.SparkContext.runJob(SparkContext.scala:2116)\n\tat org.apache.spark.SparkContext.runJob(SparkContext.scala:2137)\n\tat org.apache.spark.SparkContext.runJob(SparkContext.scala:2156)\n\tat org.apache.spark.SparkContext.runJob(SparkContext.scala:2181)\n\tat org.apache.spark.rdd.RDD.$anonfun$collect$1(RDD.scala:1004)\n\tat org.apache.spark.rdd.RDDOperationScope$.withScope(RDDOperationScope.scala:151)\n\tat org.apache.spark.rdd.RDDOperationScope$.withScope(RDDOperationScope.scala:112)\n\tat org.apache.spark.rdd.RDD.withScope(RDD.scala:388)\n\tat org.apache.spark.rdd.RDD.collect(RDD.scala:1003)\n\tat org.apache.spark.sql.execution.SparkPlan.executeCollect(SparkPlan.scala:365)\n\tat org.apache.spark.sql.Dataset.collectFromPlan(Dataset.scala:3482)\n\tat org.apache.spark.sql.Dataset.$anonfun$collect$1(Dataset.scala:2812)\n\tat org.apache.spark.sql.Dataset.$anonfun$withAction$1(Dataset.scala:3472)\n\tat org.apache.spark.sql.execution.SQLExecution$.$anonfun$withNewExecutionId$4(SQLExecution.scala:100)\n\tat org.apache.spark.sql.execution.SQLExecution$.withSQLConfPropagated(SQLExecution.scala:160)\n\tat org.apache.spark.sql.execution.SQLExecution$.withNewExecutionId(SQLExecution.scala:87)\n\tat org.apache.spark.sql.Dataset.withAction(Dataset.scala:3468)\n\tat org.apache.spark.sql.Dataset.collect(Dataset.scala:2812)\n\tat org.apache.spark.ml.clustering.ClusteringSummary.clusterSizes$lzycompute(ClusteringSummary.scala:49)\n\tat org.apache.spark.ml.clustering.ClusteringSummary.clusterSizes(ClusteringSummary.scala:47)\n\tat org.apache.spark.ml.clustering.KMeans.$anonfun$fit$1(KMeans.scala:376)\n\tat org.apache.spark.ml.util.Instrumentation$.$anonfun$instrumented$1(Instrumentation.scala:191)\n\tat scala.util.Try$.apply(Try.scala:213)\n\tat org.apache.spark.ml.util.Instrumentation$.instrumented(Instrumentation.scala:191)\n\tat org.apache.spark.ml.clustering.KMeans.fit(KMeans.scala:334)\n\tat sun.reflect.NativeMethodAccessorImpl.invoke0(Native Method)\n\tat sun.reflect.NativeMethodAccessorImpl.invoke(NativeMethodAccessorImpl.java:62)\n\tat sun.reflect.DelegatingMethodAccessorImpl.invoke(DelegatingMethodAccessorImpl.java:43)\n\tat java.lang.reflect.Method.invoke(Method.java:498)\n\tat py4j.reflection.MethodInvoker.invoke(MethodInvoker.java:244)\n\tat py4j.reflection.ReflectionEngine.invoke(ReflectionEngine.java:357)\n\tat py4j.Gateway.invoke(Gateway.java:282)\n\tat py4j.commands.AbstractCommand.invokeMethod(AbstractCommand.java:132)\n\tat py4j.commands.CallCommand.execute(CallCommand.java:79)\n\tat py4j.GatewayConnection.run(GatewayConnection.java:238)\n\tat java.lang.Thread.run(Thread.java:745)\nCaused by: java.lang.OutOfMemoryError: Java heap space\n\tat java.lang.reflect.Array.newInstance(Array.java:75)\n\tat java.io.ObjectInputStream.readArray(ObjectInputStream.java:1883)\n\tat java.io.ObjectInputStream.readObject0(ObjectInputStream.java:1529)\n\tat java.io.ObjectInputStream.defaultReadFields(ObjectInputStream.java:2231)\n\tat java.io.ObjectInputStream.readSerialData(ObjectInputStream.java:2155)\n\tat java.io.ObjectInputStream.readOrdinaryObject(ObjectInputStream.java:2013)\n\tat java.io.ObjectInputStream.readObject0(ObjectInputStream.java:1535)\n\tat java.io.ObjectInputStream.readArray(ObjectInputStream.java:1919)\n\tat java.io.ObjectInputStream.readObject0(ObjectInputStream.java:1529)\n\tat java.io.ObjectInputStream.defaultReadFields(ObjectInputStream.java:2231)\n\tat java.io.ObjectInputStream.readSerialData(ObjectInputStream.java:2155)\n\tat java.io.ObjectInputStream.readOrdinaryObject(ObjectInputStream.java:2013)\n\tat java.io.ObjectInputStream.readObject0(ObjectInputStream.java:1535)\n\tat java.io.ObjectInputStream.defaultReadFields(ObjectInputStream.java:2231)\n\tat java.io.ObjectInputStream.readSerialData(ObjectInputStream.java:2155)\n\tat java.io.ObjectInputStream.readOrdinaryObject(ObjectInputStream.java:2013)\n\tat java.io.ObjectInputStream.readObject0(ObjectInputStream.java:1535)\n\tat java.io.ObjectInputStream.readArray(ObjectInputStream.java:1919)\n\tat java.io.ObjectInputStream.readObject0(ObjectInputStream.java:1529)\n\tat java.io.ObjectInputStream.defaultReadFields(ObjectInputStream.java:2231)\n\tat java.io.ObjectInputStream.readSerialData(ObjectInputStream.java:2155)\n\tat java.io.ObjectInputStream.readOrdinaryObject(ObjectInputStream.java:2013)\n\tat java.io.ObjectInputStream.readObject0(ObjectInputStream.java:1535)\n\tat java.io.ObjectInputStream.readArray(ObjectInputStream.java:1919)\n\tat java.io.ObjectInputStream.readObject0(ObjectInputStream.java:1529)\n\tat java.io.ObjectInputStream.defaultReadFields(ObjectInputStream.java:2231)\n\tat java.io.ObjectInputStream.readSerialData(ObjectInputStream.java:2155)\n\tat java.io.ObjectInputStream.readOrdinaryObject(ObjectInputStream.java:2013)\n\tat java.io.ObjectInputStream.readObject0(ObjectInputStream.java:1535)\n\tat java.io.ObjectInputStream.defaultReadFields(ObjectInputStream.java:2231)\n\tat java.io.ObjectInputStream.readSerialData(ObjectInputStream.java:2155)\n\tat java.io.ObjectInputStream.readOrdinaryObject(ObjectInputStream.java:2013)\n",
     "output_type": "error",
     "traceback": [
      "\u001b[0;31m---------------------------------------------------------------------------\u001b[0m",
      "\u001b[0;31mPy4JJavaError\u001b[0m                             Traceback (most recent call last)",
      "\u001b[0;32m<ipython-input-15-218a92c2a1a4>\u001b[0m in \u001b[0;36m<module>\u001b[0;34m\u001b[0m\n\u001b[1;32m      3\u001b[0m \u001b[0;32mfor\u001b[0m \u001b[0mk\u001b[0m \u001b[0;32min\u001b[0m \u001b[0mrange\u001b[0m\u001b[0;34m(\u001b[0m\u001b[0;36m2\u001b[0m\u001b[0;34m,\u001b[0m\u001b[0;36m10\u001b[0m\u001b[0;34m)\u001b[0m\u001b[0;34m:\u001b[0m\u001b[0;34m\u001b[0m\u001b[0;34m\u001b[0m\u001b[0m\n\u001b[1;32m      4\u001b[0m     \u001b[0mclus\u001b[0m \u001b[0;34m=\u001b[0m \u001b[0mKMeans\u001b[0m\u001b[0;34m(\u001b[0m\u001b[0;34m)\u001b[0m\u001b[0;34m.\u001b[0m\u001b[0msetK\u001b[0m\u001b[0;34m(\u001b[0m\u001b[0mk\u001b[0m\u001b[0;34m)\u001b[0m\u001b[0;34m\u001b[0m\u001b[0;34m\u001b[0m\u001b[0m\n\u001b[0;32m----> 5\u001b[0;31m     \u001b[0mmod3\u001b[0m \u001b[0;34m=\u001b[0m \u001b[0mclus\u001b[0m\u001b[0;34m.\u001b[0m\u001b[0mfit\u001b[0m\u001b[0;34m(\u001b[0m\u001b[0mdf3\u001b[0m\u001b[0;34m)\u001b[0m\u001b[0;34m\u001b[0m\u001b[0;34m\u001b[0m\u001b[0m\n\u001b[0m\u001b[1;32m      6\u001b[0m     \u001b[0mdf4\u001b[0m \u001b[0;34m=\u001b[0m \u001b[0mmod3\u001b[0m\u001b[0;34m.\u001b[0m\u001b[0mtransform\u001b[0m\u001b[0;34m(\u001b[0m\u001b[0mdf3\u001b[0m\u001b[0;34m)\u001b[0m\u001b[0;34m\u001b[0m\u001b[0;34m\u001b[0m\u001b[0m\n\u001b[1;32m      7\u001b[0m     \u001b[0msilhouette\u001b[0m \u001b[0;34m=\u001b[0m \u001b[0mevaluator\u001b[0m\u001b[0;34m.\u001b[0m\u001b[0mevaluate\u001b[0m\u001b[0;34m(\u001b[0m\u001b[0mdf4\u001b[0m\u001b[0;34m)\u001b[0m\u001b[0;34m\u001b[0m\u001b[0;34m\u001b[0m\u001b[0m\n",
      "\u001b[0;32m~/Downloads/spark3/python/pyspark/ml/base.py\u001b[0m in \u001b[0;36mfit\u001b[0;34m(self, dataset, params)\u001b[0m\n\u001b[1;32m    129\u001b[0m                 \u001b[0;32mreturn\u001b[0m \u001b[0mself\u001b[0m\u001b[0;34m.\u001b[0m\u001b[0mcopy\u001b[0m\u001b[0;34m(\u001b[0m\u001b[0mparams\u001b[0m\u001b[0;34m)\u001b[0m\u001b[0;34m.\u001b[0m\u001b[0m_fit\u001b[0m\u001b[0;34m(\u001b[0m\u001b[0mdataset\u001b[0m\u001b[0;34m)\u001b[0m\u001b[0;34m\u001b[0m\u001b[0;34m\u001b[0m\u001b[0m\n\u001b[1;32m    130\u001b[0m             \u001b[0;32melse\u001b[0m\u001b[0;34m:\u001b[0m\u001b[0;34m\u001b[0m\u001b[0;34m\u001b[0m\u001b[0m\n\u001b[0;32m--> 131\u001b[0;31m                 \u001b[0;32mreturn\u001b[0m \u001b[0mself\u001b[0m\u001b[0;34m.\u001b[0m\u001b[0m_fit\u001b[0m\u001b[0;34m(\u001b[0m\u001b[0mdataset\u001b[0m\u001b[0;34m)\u001b[0m\u001b[0;34m\u001b[0m\u001b[0;34m\u001b[0m\u001b[0m\n\u001b[0m\u001b[1;32m    132\u001b[0m         \u001b[0;32melse\u001b[0m\u001b[0;34m:\u001b[0m\u001b[0;34m\u001b[0m\u001b[0;34m\u001b[0m\u001b[0m\n\u001b[1;32m    133\u001b[0m             raise ValueError(\"Params must be either a param map or a list/tuple of param maps, \"\n",
      "\u001b[0;32m~/Downloads/spark3/python/pyspark/ml/wrapper.py\u001b[0m in \u001b[0;36m_fit\u001b[0;34m(self, dataset)\u001b[0m\n\u001b[1;32m    319\u001b[0m \u001b[0;34m\u001b[0m\u001b[0m\n\u001b[1;32m    320\u001b[0m     \u001b[0;32mdef\u001b[0m \u001b[0m_fit\u001b[0m\u001b[0;34m(\u001b[0m\u001b[0mself\u001b[0m\u001b[0;34m,\u001b[0m \u001b[0mdataset\u001b[0m\u001b[0;34m)\u001b[0m\u001b[0;34m:\u001b[0m\u001b[0;34m\u001b[0m\u001b[0;34m\u001b[0m\u001b[0m\n\u001b[0;32m--> 321\u001b[0;31m         \u001b[0mjava_model\u001b[0m \u001b[0;34m=\u001b[0m \u001b[0mself\u001b[0m\u001b[0;34m.\u001b[0m\u001b[0m_fit_java\u001b[0m\u001b[0;34m(\u001b[0m\u001b[0mdataset\u001b[0m\u001b[0;34m)\u001b[0m\u001b[0;34m\u001b[0m\u001b[0;34m\u001b[0m\u001b[0m\n\u001b[0m\u001b[1;32m    322\u001b[0m         \u001b[0mmodel\u001b[0m \u001b[0;34m=\u001b[0m \u001b[0mself\u001b[0m\u001b[0;34m.\u001b[0m\u001b[0m_create_model\u001b[0m\u001b[0;34m(\u001b[0m\u001b[0mjava_model\u001b[0m\u001b[0;34m)\u001b[0m\u001b[0;34m\u001b[0m\u001b[0;34m\u001b[0m\u001b[0m\n\u001b[1;32m    323\u001b[0m         \u001b[0;32mreturn\u001b[0m \u001b[0mself\u001b[0m\u001b[0;34m.\u001b[0m\u001b[0m_copyValues\u001b[0m\u001b[0;34m(\u001b[0m\u001b[0mmodel\u001b[0m\u001b[0;34m)\u001b[0m\u001b[0;34m\u001b[0m\u001b[0;34m\u001b[0m\u001b[0m\n",
      "\u001b[0;32m~/Downloads/spark3/python/pyspark/ml/wrapper.py\u001b[0m in \u001b[0;36m_fit_java\u001b[0;34m(self, dataset)\u001b[0m\n\u001b[1;32m    316\u001b[0m         \"\"\"\n\u001b[1;32m    317\u001b[0m         \u001b[0mself\u001b[0m\u001b[0;34m.\u001b[0m\u001b[0m_transfer_params_to_java\u001b[0m\u001b[0;34m(\u001b[0m\u001b[0;34m)\u001b[0m\u001b[0;34m\u001b[0m\u001b[0;34m\u001b[0m\u001b[0m\n\u001b[0;32m--> 318\u001b[0;31m         \u001b[0;32mreturn\u001b[0m \u001b[0mself\u001b[0m\u001b[0;34m.\u001b[0m\u001b[0m_java_obj\u001b[0m\u001b[0;34m.\u001b[0m\u001b[0mfit\u001b[0m\u001b[0;34m(\u001b[0m\u001b[0mdataset\u001b[0m\u001b[0;34m.\u001b[0m\u001b[0m_jdf\u001b[0m\u001b[0;34m)\u001b[0m\u001b[0;34m\u001b[0m\u001b[0;34m\u001b[0m\u001b[0m\n\u001b[0m\u001b[1;32m    319\u001b[0m \u001b[0;34m\u001b[0m\u001b[0m\n\u001b[1;32m    320\u001b[0m     \u001b[0;32mdef\u001b[0m \u001b[0m_fit\u001b[0m\u001b[0;34m(\u001b[0m\u001b[0mself\u001b[0m\u001b[0;34m,\u001b[0m \u001b[0mdataset\u001b[0m\u001b[0;34m)\u001b[0m\u001b[0;34m:\u001b[0m\u001b[0;34m\u001b[0m\u001b[0;34m\u001b[0m\u001b[0m\n",
      "\u001b[0;32m~/Downloads/spark3/python/lib/py4j-0.10.8.1-src.zip/py4j/java_gateway.py\u001b[0m in \u001b[0;36m__call__\u001b[0;34m(self, *args)\u001b[0m\n\u001b[1;32m   1284\u001b[0m         \u001b[0manswer\u001b[0m \u001b[0;34m=\u001b[0m \u001b[0mself\u001b[0m\u001b[0;34m.\u001b[0m\u001b[0mgateway_client\u001b[0m\u001b[0;34m.\u001b[0m\u001b[0msend_command\u001b[0m\u001b[0;34m(\u001b[0m\u001b[0mcommand\u001b[0m\u001b[0;34m)\u001b[0m\u001b[0;34m\u001b[0m\u001b[0;34m\u001b[0m\u001b[0m\n\u001b[1;32m   1285\u001b[0m         return_value = get_return_value(\n\u001b[0;32m-> 1286\u001b[0;31m             answer, self.gateway_client, self.target_id, self.name)\n\u001b[0m\u001b[1;32m   1287\u001b[0m \u001b[0;34m\u001b[0m\u001b[0m\n\u001b[1;32m   1288\u001b[0m         \u001b[0;32mfor\u001b[0m \u001b[0mtemp_arg\u001b[0m \u001b[0;32min\u001b[0m \u001b[0mtemp_args\u001b[0m\u001b[0;34m:\u001b[0m\u001b[0;34m\u001b[0m\u001b[0;34m\u001b[0m\u001b[0m\n",
      "\u001b[0;32m~/Downloads/spark3/python/pyspark/sql/utils.py\u001b[0m in \u001b[0;36mdeco\u001b[0;34m(*a, **kw)\u001b[0m\n\u001b[1;32m     96\u001b[0m     \u001b[0;32mdef\u001b[0m \u001b[0mdeco\u001b[0m\u001b[0;34m(\u001b[0m\u001b[0;34m*\u001b[0m\u001b[0ma\u001b[0m\u001b[0;34m,\u001b[0m \u001b[0;34m**\u001b[0m\u001b[0mkw\u001b[0m\u001b[0;34m)\u001b[0m\u001b[0;34m:\u001b[0m\u001b[0;34m\u001b[0m\u001b[0;34m\u001b[0m\u001b[0m\n\u001b[1;32m     97\u001b[0m         \u001b[0;32mtry\u001b[0m\u001b[0;34m:\u001b[0m\u001b[0;34m\u001b[0m\u001b[0;34m\u001b[0m\u001b[0m\n\u001b[0;32m---> 98\u001b[0;31m             \u001b[0;32mreturn\u001b[0m \u001b[0mf\u001b[0m\u001b[0;34m(\u001b[0m\u001b[0;34m*\u001b[0m\u001b[0ma\u001b[0m\u001b[0;34m,\u001b[0m \u001b[0;34m**\u001b[0m\u001b[0mkw\u001b[0m\u001b[0;34m)\u001b[0m\u001b[0;34m\u001b[0m\u001b[0;34m\u001b[0m\u001b[0m\n\u001b[0m\u001b[1;32m     99\u001b[0m         \u001b[0;32mexcept\u001b[0m \u001b[0mpy4j\u001b[0m\u001b[0;34m.\u001b[0m\u001b[0mprotocol\u001b[0m\u001b[0;34m.\u001b[0m\u001b[0mPy4JJavaError\u001b[0m \u001b[0;32mas\u001b[0m \u001b[0me\u001b[0m\u001b[0;34m:\u001b[0m\u001b[0;34m\u001b[0m\u001b[0;34m\u001b[0m\u001b[0m\n\u001b[1;32m    100\u001b[0m             \u001b[0mconverted\u001b[0m \u001b[0;34m=\u001b[0m \u001b[0mconvert_exception\u001b[0m\u001b[0;34m(\u001b[0m\u001b[0me\u001b[0m\u001b[0;34m.\u001b[0m\u001b[0mjava_exception\u001b[0m\u001b[0;34m)\u001b[0m\u001b[0;34m\u001b[0m\u001b[0;34m\u001b[0m\u001b[0m\n",
      "\u001b[0;32m~/Downloads/spark3/python/lib/py4j-0.10.8.1-src.zip/py4j/protocol.py\u001b[0m in \u001b[0;36mget_return_value\u001b[0;34m(answer, gateway_client, target_id, name)\u001b[0m\n\u001b[1;32m    326\u001b[0m                 raise Py4JJavaError(\n\u001b[1;32m    327\u001b[0m                     \u001b[0;34m\"An error occurred while calling {0}{1}{2}.\\n\"\u001b[0m\u001b[0;34m.\u001b[0m\u001b[0;34m\u001b[0m\u001b[0;34m\u001b[0m\u001b[0m\n\u001b[0;32m--> 328\u001b[0;31m                     format(target_id, \".\", name), value)\n\u001b[0m\u001b[1;32m    329\u001b[0m             \u001b[0;32melse\u001b[0m\u001b[0;34m:\u001b[0m\u001b[0;34m\u001b[0m\u001b[0;34m\u001b[0m\u001b[0m\n\u001b[1;32m    330\u001b[0m                 raise Py4JError(\n",
      "\u001b[0;31mPy4JJavaError\u001b[0m: An error occurred while calling o649.fit.\n: org.apache.spark.SparkException: Job aborted due to stage failure: Task 49 in stage 416.0 failed 1 times, most recent failure: Lost task 49.0 in stage 416.0 (TID 51149, 192.168.1.222, executor driver): java.lang.OutOfMemoryError: Java heap space\n\tat java.lang.reflect.Array.newInstance(Array.java:75)\n\tat java.io.ObjectInputStream.readArray(ObjectInputStream.java:1883)\n\tat java.io.ObjectInputStream.readObject0(ObjectInputStream.java:1529)\n\tat java.io.ObjectInputStream.defaultReadFields(ObjectInputStream.java:2231)\n\tat java.io.ObjectInputStream.readSerialData(ObjectInputStream.java:2155)\n\tat java.io.ObjectInputStream.readOrdinaryObject(ObjectInputStream.java:2013)\n\tat java.io.ObjectInputStream.readObject0(ObjectInputStream.java:1535)\n\tat java.io.ObjectInputStream.readArray(ObjectInputStream.java:1919)\n\tat java.io.ObjectInputStream.readObject0(ObjectInputStream.java:1529)\n\tat java.io.ObjectInputStream.defaultReadFields(ObjectInputStream.java:2231)\n\tat java.io.ObjectInputStream.readSerialData(ObjectInputStream.java:2155)\n\tat java.io.ObjectInputStream.readOrdinaryObject(ObjectInputStream.java:2013)\n\tat java.io.ObjectInputStream.readObject0(ObjectInputStream.java:1535)\n\tat java.io.ObjectInputStream.defaultReadFields(ObjectInputStream.java:2231)\n\tat java.io.ObjectInputStream.readSerialData(ObjectInputStream.java:2155)\n\tat java.io.ObjectInputStream.readOrdinaryObject(ObjectInputStream.java:2013)\n\tat java.io.ObjectInputStream.readObject0(ObjectInputStream.java:1535)\n\tat java.io.ObjectInputStream.readArray(ObjectInputStream.java:1919)\n\tat java.io.ObjectInputStream.readObject0(ObjectInputStream.java:1529)\n\tat java.io.ObjectInputStream.defaultReadFields(ObjectInputStream.java:2231)\n\tat java.io.ObjectInputStream.readSerialData(ObjectInputStream.java:2155)\n\tat java.io.ObjectInputStream.readOrdinaryObject(ObjectInputStream.java:2013)\n\tat java.io.ObjectInputStream.readObject0(ObjectInputStream.java:1535)\n\tat java.io.ObjectInputStream.readArray(ObjectInputStream.java:1919)\n\tat java.io.ObjectInputStream.readObject0(ObjectInputStream.java:1529)\n\tat java.io.ObjectInputStream.defaultReadFields(ObjectInputStream.java:2231)\n\tat java.io.ObjectInputStream.readSerialData(ObjectInputStream.java:2155)\n\tat java.io.ObjectInputStream.readOrdinaryObject(ObjectInputStream.java:2013)\n\tat java.io.ObjectInputStream.readObject0(ObjectInputStream.java:1535)\n\tat java.io.ObjectInputStream.defaultReadFields(ObjectInputStream.java:2231)\n\tat java.io.ObjectInputStream.readSerialData(ObjectInputStream.java:2155)\n\tat java.io.ObjectInputStream.readOrdinaryObject(ObjectInputStream.java:2013)\n\nDriver stacktrace:\n\tat org.apache.spark.scheduler.DAGScheduler.failJobAndIndependentStages(DAGScheduler.scala:1989)\n\tat org.apache.spark.scheduler.DAGScheduler.$anonfun$abortStage$2(DAGScheduler.scala:1977)\n\tat org.apache.spark.scheduler.DAGScheduler.$anonfun$abortStage$2$adapted(DAGScheduler.scala:1976)\n\tat scala.collection.mutable.ResizableArray.foreach(ResizableArray.scala:62)\n\tat scala.collection.mutable.ResizableArray.foreach$(ResizableArray.scala:55)\n\tat scala.collection.mutable.ArrayBuffer.foreach(ArrayBuffer.scala:49)\n\tat org.apache.spark.scheduler.DAGScheduler.abortStage(DAGScheduler.scala:1976)\n\tat org.apache.spark.scheduler.DAGScheduler.$anonfun$handleTaskSetFailed$1(DAGScheduler.scala:956)\n\tat org.apache.spark.scheduler.DAGScheduler.$anonfun$handleTaskSetFailed$1$adapted(DAGScheduler.scala:956)\n\tat scala.Option.foreach(Option.scala:407)\n\tat org.apache.spark.scheduler.DAGScheduler.handleTaskSetFailed(DAGScheduler.scala:956)\n\tat org.apache.spark.scheduler.DAGSchedulerEventProcessLoop.doOnReceive(DAGScheduler.scala:2206)\n\tat org.apache.spark.scheduler.DAGSchedulerEventProcessLoop.onReceive(DAGScheduler.scala:2155)\n\tat org.apache.spark.scheduler.DAGSchedulerEventProcessLoop.onReceive(DAGScheduler.scala:2144)\n\tat org.apache.spark.util.EventLoop$$anon$1.run(EventLoop.scala:49)\n\tat org.apache.spark.scheduler.DAGScheduler.runJob(DAGScheduler.scala:758)\n\tat org.apache.spark.SparkContext.runJob(SparkContext.scala:2116)\n\tat org.apache.spark.SparkContext.runJob(SparkContext.scala:2137)\n\tat org.apache.spark.SparkContext.runJob(SparkContext.scala:2156)\n\tat org.apache.spark.SparkContext.runJob(SparkContext.scala:2181)\n\tat org.apache.spark.rdd.RDD.$anonfun$collect$1(RDD.scala:1004)\n\tat org.apache.spark.rdd.RDDOperationScope$.withScope(RDDOperationScope.scala:151)\n\tat org.apache.spark.rdd.RDDOperationScope$.withScope(RDDOperationScope.scala:112)\n\tat org.apache.spark.rdd.RDD.withScope(RDD.scala:388)\n\tat org.apache.spark.rdd.RDD.collect(RDD.scala:1003)\n\tat org.apache.spark.sql.execution.SparkPlan.executeCollect(SparkPlan.scala:365)\n\tat org.apache.spark.sql.Dataset.collectFromPlan(Dataset.scala:3482)\n\tat org.apache.spark.sql.Dataset.$anonfun$collect$1(Dataset.scala:2812)\n\tat org.apache.spark.sql.Dataset.$anonfun$withAction$1(Dataset.scala:3472)\n\tat org.apache.spark.sql.execution.SQLExecution$.$anonfun$withNewExecutionId$4(SQLExecution.scala:100)\n\tat org.apache.spark.sql.execution.SQLExecution$.withSQLConfPropagated(SQLExecution.scala:160)\n\tat org.apache.spark.sql.execution.SQLExecution$.withNewExecutionId(SQLExecution.scala:87)\n\tat org.apache.spark.sql.Dataset.withAction(Dataset.scala:3468)\n\tat org.apache.spark.sql.Dataset.collect(Dataset.scala:2812)\n\tat org.apache.spark.ml.clustering.ClusteringSummary.clusterSizes$lzycompute(ClusteringSummary.scala:49)\n\tat org.apache.spark.ml.clustering.ClusteringSummary.clusterSizes(ClusteringSummary.scala:47)\n\tat org.apache.spark.ml.clustering.KMeans.$anonfun$fit$1(KMeans.scala:376)\n\tat org.apache.spark.ml.util.Instrumentation$.$anonfun$instrumented$1(Instrumentation.scala:191)\n\tat scala.util.Try$.apply(Try.scala:213)\n\tat org.apache.spark.ml.util.Instrumentation$.instrumented(Instrumentation.scala:191)\n\tat org.apache.spark.ml.clustering.KMeans.fit(KMeans.scala:334)\n\tat sun.reflect.NativeMethodAccessorImpl.invoke0(Native Method)\n\tat sun.reflect.NativeMethodAccessorImpl.invoke(NativeMethodAccessorImpl.java:62)\n\tat sun.reflect.DelegatingMethodAccessorImpl.invoke(DelegatingMethodAccessorImpl.java:43)\n\tat java.lang.reflect.Method.invoke(Method.java:498)\n\tat py4j.reflection.MethodInvoker.invoke(MethodInvoker.java:244)\n\tat py4j.reflection.ReflectionEngine.invoke(ReflectionEngine.java:357)\n\tat py4j.Gateway.invoke(Gateway.java:282)\n\tat py4j.commands.AbstractCommand.invokeMethod(AbstractCommand.java:132)\n\tat py4j.commands.CallCommand.execute(CallCommand.java:79)\n\tat py4j.GatewayConnection.run(GatewayConnection.java:238)\n\tat java.lang.Thread.run(Thread.java:745)\nCaused by: java.lang.OutOfMemoryError: Java heap space\n\tat java.lang.reflect.Array.newInstance(Array.java:75)\n\tat java.io.ObjectInputStream.readArray(ObjectInputStream.java:1883)\n\tat java.io.ObjectInputStream.readObject0(ObjectInputStream.java:1529)\n\tat java.io.ObjectInputStream.defaultReadFields(ObjectInputStream.java:2231)\n\tat java.io.ObjectInputStream.readSerialData(ObjectInputStream.java:2155)\n\tat java.io.ObjectInputStream.readOrdinaryObject(ObjectInputStream.java:2013)\n\tat java.io.ObjectInputStream.readObject0(ObjectInputStream.java:1535)\n\tat java.io.ObjectInputStream.readArray(ObjectInputStream.java:1919)\n\tat java.io.ObjectInputStream.readObject0(ObjectInputStream.java:1529)\n\tat java.io.ObjectInputStream.defaultReadFields(ObjectInputStream.java:2231)\n\tat java.io.ObjectInputStream.readSerialData(ObjectInputStream.java:2155)\n\tat java.io.ObjectInputStream.readOrdinaryObject(ObjectInputStream.java:2013)\n\tat java.io.ObjectInputStream.readObject0(ObjectInputStream.java:1535)\n\tat java.io.ObjectInputStream.defaultReadFields(ObjectInputStream.java:2231)\n\tat java.io.ObjectInputStream.readSerialData(ObjectInputStream.java:2155)\n\tat java.io.ObjectInputStream.readOrdinaryObject(ObjectInputStream.java:2013)\n\tat java.io.ObjectInputStream.readObject0(ObjectInputStream.java:1535)\n\tat java.io.ObjectInputStream.readArray(ObjectInputStream.java:1919)\n\tat java.io.ObjectInputStream.readObject0(ObjectInputStream.java:1529)\n\tat java.io.ObjectInputStream.defaultReadFields(ObjectInputStream.java:2231)\n\tat java.io.ObjectInputStream.readSerialData(ObjectInputStream.java:2155)\n\tat java.io.ObjectInputStream.readOrdinaryObject(ObjectInputStream.java:2013)\n\tat java.io.ObjectInputStream.readObject0(ObjectInputStream.java:1535)\n\tat java.io.ObjectInputStream.readArray(ObjectInputStream.java:1919)\n\tat java.io.ObjectInputStream.readObject0(ObjectInputStream.java:1529)\n\tat java.io.ObjectInputStream.defaultReadFields(ObjectInputStream.java:2231)\n\tat java.io.ObjectInputStream.readSerialData(ObjectInputStream.java:2155)\n\tat java.io.ObjectInputStream.readOrdinaryObject(ObjectInputStream.java:2013)\n\tat java.io.ObjectInputStream.readObject0(ObjectInputStream.java:1535)\n\tat java.io.ObjectInputStream.defaultReadFields(ObjectInputStream.java:2231)\n\tat java.io.ObjectInputStream.readSerialData(ObjectInputStream.java:2155)\n\tat java.io.ObjectInputStream.readOrdinaryObject(ObjectInputStream.java:2013)\n"
     ]
    }
   ],
   "source": [
    "evaluator = ClusteringEvaluator()\n",
    "sil_res = []\n",
    "for k in range(2,7):\n",
    "    clus = KMeans().setK(k)\n",
    "    mod3 = clus.fit(df2)\n",
    "    df3 = mod3.transform(df2)\n",
    "    silhouette = evaluator.evaluate(df3)\n",
    "    sil_res.append(silhouette)\n",
    "    print(\"For k =\",k,\"Silhouette = \" + str(silhouette))"
   ]
  },
  {
   "cell_type": "code",
   "execution_count": 21,
   "metadata": {},
   "outputs": [
    {
     "data": {
      "image/png": "[encoded data removed]",
      "text/plain": [
       "<Figure size 432x288 with 1 Axes>"
      ]
     },
     "metadata": {
      "needs_background": "light"
     },
     "output_type": "display_data"
    }
   ],
   "source": [
    "sns.lineplot(list(range(2,8)),sil_res)\n",
    "plt.show()"
   ]
  },
  {
   "cell_type": "code",
   "execution_count": 17,
   "metadata": {},
   "outputs": [],
   "source": [
    "#3 is the best\n",
    "evaluator = ClusteringEvaluator()\n",
    "clus = KMeans().setK(3)\n",
    "cluster_model = clus.fit(df2)\n",
    "#silhouette = evaluator.evaluate(df4)"
   ]
  },
  {
   "cell_type": "code",
   "execution_count": 18,
   "metadata": {},
   "outputs": [],
   "source": [
    "df3 = cluster_model.transform(df2)"
   ]
  },
  {
   "cell_type": "code",
   "execution_count": 19,
   "metadata": {},
   "outputs": [
    {
     "name": "stdout",
     "output_type": "stream",
     "text": [
      "+----------+-----+----+--------------------+--------------------+--------------------+--------------------+----------+\n",
      "|   product|votes|rate|                text|               words|         rawFeatures|            features|prediction|\n",
      "+----------+-----+----+--------------------+--------------------+--------------------+--------------------+----------+\n",
      "|B01CT5KLIY|    1| 4.0|love idea two wom...|[love, idea, two,...|(262144,[0,1,2,6,...|(262144,[0,1,2,6,...|         0|\n",
      "|B01CT5KQMA|    1| 5.0|must veri well gr...|[must, veri, well...|(262144,[0,1,7,8,...|(262144,[0,1,7,8,...|         0|\n",
      "|B01CT5KQMA|    1| 5.0|charact likabl pl...|[charact, likabl,...|(262144,[0,5,8,15...|(262144,[0,5,8,15...|         0|\n",
      "+----------+-----+----+--------------------+--------------------+--------------------+--------------------+----------+\n",
      "only showing top 3 rows\n",
      "\n"
     ]
    }
   ],
   "source": [
    "df3.show(3)"
   ]
  },
  {
   "cell_type": "code",
   "execution_count": 26,
   "metadata": {},
   "outputs": [
    {
     "name": "stdout",
     "output_type": "stream",
     "text": [
      "+----------+-----+----+--------------------+----------+\n",
      "|   product|votes|rate|                text|prediction|\n",
      "+----------+-----+----+--------------------+----------+\n",
      "|B01CT5KLIY|    1| 4.0|love idea two wom...|         0|\n",
      "|B01CT5KQMA|    1| 5.0|must veri well gr...|         0|\n",
      "|B01CT5KQMA|    1| 5.0|charact likabl pl...|         0|\n",
      "|B01CT6LRK4|    1| 4.0|abl final sit sur...|         0|\n",
      "|B01CT6LRK4|    1| 2.0|few basic tip say...|         0|\n",
      "|B01CT6LRK4|    1| 5.0| best world success |         0|\n",
      "|B01CT6LRK4|    1| 5.0|complet guid succ...|         0|\n",
      "|B01CT6LRK4|    1| 5.0|again veri entert...|         0|\n",
      "|B01CT6LRK4|    1| 5.0|great social succ...|         0|\n",
      "|B01CT6LRK4|    1| 5.0|wonder tip must e...|         0|\n",
      "|B01CT6LRK4|    1| 5.0|         nice pleas |         0|\n",
      "|B01CT6LRK4|    1| 5.0|well connect aspe...|         0|\n",
      "|B01CT6LRK4|    1| 4.0|great new style w...|         0|\n",
      "|B01CT6LRK4|    1| 4.0|          veri good |         0|\n",
      "|B01CT6LRK4|    1| 5.0|guid develop pers...|         0|\n",
      "|B01CT6LRK4|    1| 5.0|              motiv |         0|\n",
      "|B01CT6LRK4|    1| 4.0|              motiv |         0|\n",
      "|B01CT6LRK4|    1| 5.0|hatt keep write w...|         0|\n",
      "|B01CT6LRK4|    1| 5.0|veri good motiv h...|         0|\n",
      "|B01CT6LRK4|    1| 5.0|repres definit fo...|         0|\n",
      "+----------+-----+----+--------------------+----------+\n",
      "only showing top 20 rows\n",
      "\n"
     ]
    }
   ],
   "source": [
    "df3.select('product','votes','rate','text','prediction').show()"
   ]
  },
  {
   "cell_type": "code",
   "execution_count": 27,
   "metadata": {},
   "outputs": [],
   "source": [
    "df3.select('product','votes','rate','text','prediction').write.mode('overwrite').options(header='true').csv('hdfs://localhost:9000/TextMining/tokens/clustered')"
   ]
  },
  {
   "cell_type": "code",
   "execution_count": 28,
   "metadata": {},
   "outputs": [],
   "source": [
    "res = df3.select(\"rate\",\"prediction\").toPandas()"
   ]
  },
  {
   "cell_type": "code",
   "execution_count": 29,
   "metadata": {},
   "outputs": [
    {
     "data": {
      "text/plain": [
       "0    5035048\n",
       "2     425153\n",
       "1       7179\n",
       "Name: prediction, dtype: int64"
      ]
     },
     "execution_count": 29,
     "metadata": {},
     "output_type": "execute_result"
    }
   ],
   "source": [
    "res.prediction.value_counts()"
   ]
  },
  {
   "cell_type": "code",
   "execution_count": 34,
   "metadata": {},
   "outputs": [
    {
     "data": {
      "text/plain": [
       "<matplotlib.axes._subplots.AxesSubplot at 0x7f0fadd693d0>"
      ]
     },
     "execution_count": 34,
     "metadata": {},
     "output_type": "execute_result"
    },
    {
     "data": {
      "image/png": "[encoded data removed]",
      "text/plain": [
       "<Figure size 432x288 with 1 Axes>"
      ]
     },
     "metadata": {
      "needs_background": "light"
     },
     "output_type": "display_data"
    }
   ],
   "source": [
    "sns.distplot(res.rate, norm_hist=True, kde=False)"
   ]
  },
  {
   "cell_type": "code",
   "execution_count": 38,
   "metadata": {},
   "outputs": [],
   "source": [
    "assembler = VectorAssembler(inputCols=['votes','rate','prediction'], outputCol=\"corr_features\")\n",
    "corr_df = assembler.transform(df3)\n",
    "pearsonCorr = Correlation.corr(corr_df, 'corr_features', 'pearson').collect()"
   ]
  },
  {
   "cell_type": "code",
   "execution_count": 47,
   "metadata": {},
   "outputs": [
    {
     "data": {
      "image/png": "[encoded data removed]",
      "text/plain": [
       "<Figure size 360x360 with 2 Axes>"
      ]
     },
     "metadata": {
      "needs_background": "light"
     },
     "output_type": "display_data"
    }
   ],
   "source": [
    "plt.figure(figsize=(5, 5))\n",
    "sns.heatmap(pearsonCorr[0][0].values.reshape(3,3), \n",
    "            vmax=1, vmin=-1, annot=True,annot_kws={'color':'black'},\n",
    "            xticklabels=['votes','rate','cluster'], \n",
    "            yticklabels=['votes','rate','cluster'], \n",
    "            center=0, cmap=\"PiYG\")\n",
    "plt.show()"
   ]
  },
  {
   "cell_type": "code",
   "execution_count": 53,
   "metadata": {
    "scrolled": true
   },
   "outputs": [
    {
     "name": "stdout",
     "output_type": "stream",
     "text": [
      "+----------+------------------+---------------+\n",
      "|prediction|         avg(rate)|avg(prediction)|\n",
      "+----------+------------------+---------------+\n",
      "|         1|3.9931745368435716|            1.0|\n",
      "|         2|  4.22976199156539|            2.0|\n",
      "|         0| 4.307239176270017|            0.0|\n",
      "+----------+------------------+---------------+\n",
      "\n"
     ]
    }
   ],
   "source": [
    "df3.select(['rate','prediction']).groupBy('prediction').mean().show()"
   ]
  },
  {
   "cell_type": "markdown",
   "metadata": {},
   "source": [
    "# Sentiment with TextBlob"
   ]
  },
  {
   "cell_type": "code",
   "execution_count": 17,
   "metadata": {},
   "outputs": [],
   "source": [
    "df = csv_reader.csv(\"hdfs://localhost:9000/TextMining/cleaned_data/part-*\").na.drop()"
   ]
  },
  {
   "cell_type": "code",
   "execution_count": 18,
   "metadata": {},
   "outputs": [
    {
     "name": "stdout",
     "output_type": "stream",
     "text": [
      "+----------+-----+----+--------------------+\n",
      "|   product|votes|rate|                text|\n",
      "+----------+-----+----+--------------------+\n",
      "|0143065971|    1| 5.0|Great condition a...|\n",
      "|0143065971|    4| 5.0|This is a masterp...|\n",
      "|1423600150|    1| 5.0|Great little cook...|\n",
      "|1423600150|    1| 5.0|   Great mexi stuff.|\n",
      "|1423600150|    1| 5.0|          Great book|\n",
      "|1423600150|    1| 5.0|Excellent book on...|\n",
      "|1423600150|    1| 3.0|It is rather disa...|\n",
      "|1423600150|    1| 5.0|Some unique and d...|\n",
      "|1423600150|    1| 5.0|Excellent book ri...|\n",
      "|1423600150|    1| 5.0|Going to a favori...|\n",
      "|1423600150|   16| 5.0|Many people are s...|\n",
      "|1423600150|    4| 3.0|I admire the SF S...|\n",
      "|1423600150|    1| 5.0|This book has goo...|\n",
      "|1423600150|    1| 4.0|If you like makin...|\n",
      "|1423600150|    4| 5.0|great little book...|\n",
      "|1423600150|    1| 4.0|The Mailman seeme...|\n",
      "|1423600150|    1| 5.0|I usually make up...|\n",
      "|1423600150|    1| 1.0|No color photos. ...|\n",
      "|1423600150|    1| 5.0|VERY GOOD READING...|\n",
      "|1423600150|    1| 1.0|Recipes are good ...|\n",
      "+----------+-----+----+--------------------+\n",
      "only showing top 20 rows\n",
      "\n"
     ]
    }
   ],
   "source": [
    "df.show()"
   ]
  },
  {
   "cell_type": "code",
   "execution_count": 21,
   "metadata": {},
   "outputs": [
    {
     "data": {
      "text/plain": [
       "<bound method DataFrame.printSchema of DataFrame[product: string, votes: int, rate: double, text: string]>"
      ]
     },
     "execution_count": 21,
     "metadata": {},
     "output_type": "execute_result"
    }
   ],
   "source": [
    "df.printSchema()"
   ]
  },
  {
   "cell_type": "code",
   "execution_count": 19,
   "metadata": {},
   "outputs": [],
   "source": [
    "from textblob import TextBlob\n",
    "\n",
    "def sentiment_analysis(text):\n",
    "    return TextBlob(text).sentiment.polarity\n",
    "\n",
    "sentiment_udf = sqlF.udf(sentiment_analysis , FloatType())"
   ]
  },
  {
   "cell_type": "code",
   "execution_count": 24,
   "metadata": {},
   "outputs": [],
   "source": [
    "df = df.withColumn(\"sentiment_score\", sentiment_udf(df['text']))"
   ]
  },
  {
   "cell_type": "code",
   "execution_count": 26,
   "metadata": {},
   "outputs": [
    {
     "name": "stdout",
     "output_type": "stream",
     "text": [
      "+----------+-----+----+--------------------+---------------+\n",
      "|   product|votes|rate|                text|sentiment_score|\n",
      "+----------+-----+----+--------------------+---------------+\n",
      "|0143065971|    1| 5.0|Great condition a...|            0.9|\n",
      "|0143065971|    4| 5.0|This is a masterp...|     0.11708705|\n",
      "|1423600150|    1| 5.0|Great little cook...|       0.340625|\n",
      "|1423600150|    1| 5.0|   Great mexi stuff.|            0.8|\n",
      "|1423600150|    1| 5.0|          Great book|            0.8|\n",
      "|1423600150|    1| 5.0|Excellent book on...|           0.65|\n",
      "|1423600150|    1| 3.0|It is rather disa...|    0.036666665|\n",
      "|1423600150|    1| 5.0|Some unique and d...|         0.6875|\n",
      "|1423600150|    1| 5.0|Excellent book ri...|     0.64285713|\n",
      "|1423600150|    1| 5.0|Going to a favori...|            0.5|\n",
      "|1423600150|   16| 5.0|Many people are s...|     0.27673653|\n",
      "|1423600150|    4| 3.0|I admire the SF S...|          -0.75|\n",
      "|1423600150|    1| 5.0|This book has goo...|     0.56666666|\n",
      "|1423600150|    1| 4.0|If you like makin...|            0.4|\n",
      "|1423600150|    4| 5.0|great little book...|     0.27117348|\n",
      "|1423600150|    1| 4.0|The Mailman seeme...|            0.5|\n",
      "|1423600150|    1| 5.0|I usually make up...|      0.3810606|\n",
      "|1423600150|    1| 1.0|No color photos. ...|            0.0|\n",
      "|1423600150|    1| 5.0|VERY GOOD READING...|          0.542|\n",
      "|1423600150|    1| 1.0|Recipes are good ...|    -0.20296296|\n",
      "+----------+-----+----+--------------------+---------------+\n",
      "only showing top 20 rows\n",
      "\n"
     ]
    }
   ],
   "source": [
    "df.show()"
   ]
  },
  {
   "cell_type": "code",
   "execution_count": 28,
   "metadata": {},
   "outputs": [],
   "source": [
    "assembler = VectorAssembler(inputCols=['votes','rate','sentiment_score'], outputCol=\"corr_features\")\n",
    "\n",
    "corr_df = assembler.transform(df)\n",
    "pearsonCorr = Correlation.corr(corr_df, 'corr_features', 'pearson').collect()"
   ]
  },
  {
   "cell_type": "code",
   "execution_count": 29,
   "metadata": {},
   "outputs": [
    {
     "data": {
      "image/png": "[encoded data removed]",
      "text/plain": [
       "<Figure size 360x360 with 2 Axes>"
      ]
     },
     "metadata": {
      "needs_background": "light"
     },
     "output_type": "display_data"
    }
   ],
   "source": [
    "plt.figure(figsize=(5, 5))\n",
    "sns.heatmap(pearsonCorr[0][0].values.reshape(3,3), \n",
    "            vmax=1, vmin=-1, annot=True,annot_kws={'color':'black'},\n",
    "            xticklabels=['votes','rate','sentiment'], \n",
    "            yticklabels=['votes','rate','sentiment'], \n",
    "            center=0, cmap=\"PiYG\")\n",
    "plt.show()"
   ]
  },
  {
   "cell_type": "code",
   "execution_count": 35,
   "metadata": {},
   "outputs": [
    {
     "name": "stdout",
     "output_type": "stream",
     "text": [
      "+----+------------------+--------------------+\n",
      "|rate|        avg(votes)|avg(sentiment_score)|\n",
      "+----+------------------+--------------------+\n",
      "| 1.0|3.3596850028055645|-0.01607412162580...|\n",
      "| 4.0|1.4177290404419742|  0.2772317332324222|\n",
      "| 3.0|1.7377818403412553| 0.18949055701067982|\n",
      "| 2.0|2.5251020121007457| 0.07714642109464315|\n",
      "| 5.0|1.5615217834308246| 0.33499123732359426|\n",
      "+----+------------------+--------------------+\n",
      "\n"
     ]
    }
   ],
   "source": [
    "df.select('votes','rate','sentiment_score').groupBy('rate').mean('votes','sentiment_score').show()"
   ]
  },
  {
   "cell_type": "code",
   "execution_count": null,
   "metadata": {},
   "outputs": [],
   "source": [
    "df.t"
   ]
  }
 ],
 "metadata": {
  "kernelspec": {
   "display_name": "Python 3",
   "language": "python",
   "name": "python3"
  },
  "language_info": {
   "codemirror_mode": {
    "name": "ipython",
    "version": 3
   },
   "file_extension": ".py",
   "mimetype": "text/x-python",
   "name": "python",
   "nbconvert_exporter": "python",
   "pygments_lexer": "ipython3",
   "version": "3.7.5"
  }
 },
 "nbformat": 4,
 "nbformat_minor": 2
}
