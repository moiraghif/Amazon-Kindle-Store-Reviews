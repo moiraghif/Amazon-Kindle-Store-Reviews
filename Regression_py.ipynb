{
 "cells": [
  {
   "cell_type": "code",
   "execution_count": 1,
   "metadata": {},
   "outputs": [],
   "source": [
    "from pyspark.sql import SQLContext, SparkSession\n",
    "from pyspark.sql.types import *\n",
    "import pyspark.sql.functions as sqlF\n",
    "from pyspark import SparkContext, SparkConf\n",
    "\n",
    "from pyspark.ml.feature import HashingTF, IDF, RegexTokenizer, NGram\n",
    "from pyspark.ml import Pipeline, Model\n",
    "from pyspark.ml.classification import LogisticRegression\n",
    "from pyspark.ml.evaluation import BinaryClassificationEvaluator\n",
    "\n",
    "from pyspark.ml.feature import Binarizer\n",
    "\n",
    "from pyspark.ml.tuning import CrossValidator, ParamGridBuilder"
   ]
  },
  {
   "cell_type": "code",
   "execution_count": 2,
   "metadata": {},
   "outputs": [
    {
     "name": "stderr",
     "output_type": "stream",
     "text": [
      "/home/pranav/anaconda3/lib/python3.7/importlib/_bootstrap.py:219: RuntimeWarning: numpy.ufunc size changed, may indicate binary incompatibility. Expected 192 from C header, got 216 from PyObject\n",
      "  return f(*args, **kwds)\n",
      "/home/pranav/anaconda3/lib/python3.7/importlib/_bootstrap.py:219: RuntimeWarning: numpy.ufunc size changed, may indicate binary incompatibility. Expected 192 from C header, got 216 from PyObject\n",
      "  return f(*args, **kwds)\n"
     ]
    }
   ],
   "source": [
    "import matplotlib.pyplot as plt\n",
    "import seaborn as sns\n",
    "\n",
    "%matplotlib inline"
   ]
  },
  {
   "cell_type": "code",
   "execution_count": 3,
   "metadata": {},
   "outputs": [],
   "source": [
    "conf = SparkConf().setAll([('spark.executor.memory', '5g'), ('spark.driver.memory','5g')]) #controllo RAM\n",
    "\n",
    "my_spark = SparkSession \\\n",
    "    .builder.master('local[*]') \\\n",
    "    .appName(\"RegressionApp\")\\\n",
    "    .config(conf=conf)\\\n",
    "    .getOrCreate()\n",
    "\n",
    "sqlContext = SQLContext(my_spark)"
   ]
  },
  {
   "cell_type": "code",
   "execution_count": 6,
   "metadata": {},
   "outputs": [],
   "source": [
    "path = \"hdfs://localhost:9000/TextMining/tokens/part-00000\" #change to part-* when executing everything\n",
    "\n",
    "original_schema = StructType([StructField(\"product\", StringType(), True),\n",
    "         StructField(\"votes\", IntegerType(), True),\n",
    "         StructField(\"rate\", DoubleType(), True),\n",
    "         StructField(\"text\", StringType(), True)])\n",
    "\n",
    "original_data = sqlContext.read.\\\n",
    "                options(header='false', \n",
    "                inferschema='false',\n",
    "                delimiter=\"\\t\").\\\n",
    "                schema(original_schema).csv(path).na.drop()"
   ]
  },
  {
   "cell_type": "code",
   "execution_count": 14,
   "metadata": {},
   "outputs": [],
   "source": [
    "binarizer = Binarizer()\\\n",
    "  .setInputCol(\"rate\")\\\n",
    "  .setOutputCol(\"label\")\\\n",
    "  .setThreshold(3.5)\n",
    "\n",
    "# get n-grams\n",
    "tokenizer = RegexTokenizer()\\\n",
    "  .setInputCol(\"text\")\\\n",
    "  .setOutputCol(\"tokens\")\\\n",
    "  .setPattern(\"\\\\W\")\n",
    "\n",
    "ngrams = NGram()\\\n",
    "  .setInputCol(tokenizer.getOutputCol())\\\n",
    "  .setOutputCol(\"n-grams\")\n",
    "\n",
    "# calc tf-idf \n",
    "tf = HashingTF()\\\n",
    "  .setInputCol(ngrams.getOutputCol())\\\n",
    "  .setOutputCol(\"tf\")\n",
    "idf = IDF()\\\n",
    "  .setInputCol(tf.getOutputCol())\\\n",
    "  .setOutputCol(\"tf-idf\")\\\n",
    "  .setMinDocFreq(3)\n",
    "\n",
    "# build the classifier\n",
    "classifierMod = LogisticRegression()\\\n",
    "  .setMaxIter(10)\\\n",
    "  .setFeaturesCol(idf.getOutputCol())\\\n",
    "  .setLabelCol(binarizer.getOutputCol())\n",
    "\n",
    "# this is the pipeline that data follows to be evaluated\n",
    "pipeline = Pipeline(stages = [binarizer, tokenizer, ngrams, tf, idf, classifierMod])"
   ]
  },
  {
   "cell_type": "code",
   "execution_count": 18,
   "metadata": {},
   "outputs": [],
   "source": [
    "# a little of optimization: try different hyperparameters\n",
    "paramGrid = ParamGridBuilder()\\\n",
    "  .addGrid(classifierMod.regParam, [0.01, 0.05, 0.1])\\\n",
    "  .addGrid(ngrams.n, [1, 2, 3])\\\n",
    "  .build()\n",
    "\n",
    "# do it with a cross validation on the train set (3 folds)\n",
    "evaluator = BinaryClassificationEvaluator()\n",
    "cv = CrossValidator()\\\n",
    "  .setEstimator(pipeline)\\\n",
    "  .setEvaluator(evaluator)\\\n",
    "  .setEstimatorParamMaps(paramGrid)\\\n",
    "  .setNumFolds(3)"
   ]
  },
  {
   "cell_type": "code",
   "execution_count": 19,
   "metadata": {},
   "outputs": [
    {
     "name": "stdout",
     "output_type": "stream",
     "text": [
      "Training... \n",
      "done!\n"
     ]
    }
   ],
   "source": [
    "print(\"Training... \");\n",
    "model = cv.fit(original_data)\n",
    "print(\"done!\")"
   ]
  },
  {
   "cell_type": "code",
   "execution_count": 25,
   "metadata": {},
   "outputs": [
    {
     "data": {
      "text/plain": [
       "[0.8938831428943195,\n",
       " 0.8438780555556324,\n",
       " 0.6684015764706526,\n",
       " 0.9035467454607642,\n",
       " 0.8638633730425431,\n",
       " 0.684228390480026,\n",
       " 0.9053547458336451,\n",
       " 0.8714815285643673,\n",
       " 0.6912878978506443]"
      ]
     },
     "execution_count": 25,
     "metadata": {},
     "output_type": "execute_result"
    }
   ],
   "source": [
    "model.avgMetrics"
   ]
  },
  {
   "cell_type": "code",
   "execution_count": 32,
   "metadata": {},
   "outputs": [
    {
     "name": "stdout",
     "output_type": "stream",
     "text": [
      "{Param(parent='LogisticRegression_063e134a075d', name='regParam', doc='regularization parameter (>= 0).'): 0.01, Param(parent='NGram_4e3dfc95ea02', name='n', doc='number of elements per n-gram (>=1)'): 1}\n",
      "0.8938831428943195\n",
      "\n",
      "{Param(parent='LogisticRegression_063e134a075d', name='regParam', doc='regularization parameter (>= 0).'): 0.01, Param(parent='NGram_4e3dfc95ea02', name='n', doc='number of elements per n-gram (>=1)'): 2}\n",
      "0.8438780555556324\n",
      "\n",
      "{Param(parent='LogisticRegression_063e134a075d', name='regParam', doc='regularization parameter (>= 0).'): 0.01, Param(parent='NGram_4e3dfc95ea02', name='n', doc='number of elements per n-gram (>=1)'): 3}\n",
      "0.6684015764706526\n",
      "\n",
      "{Param(parent='LogisticRegression_063e134a075d', name='regParam', doc='regularization parameter (>= 0).'): 0.05, Param(parent='NGram_4e3dfc95ea02', name='n', doc='number of elements per n-gram (>=1)'): 1}\n",
      "0.9035467454607642\n",
      "\n",
      "{Param(parent='LogisticRegression_063e134a075d', name='regParam', doc='regularization parameter (>= 0).'): 0.05, Param(parent='NGram_4e3dfc95ea02', name='n', doc='number of elements per n-gram (>=1)'): 2}\n",
      "0.8638633730425431\n",
      "\n",
      "{Param(parent='LogisticRegression_063e134a075d', name='regParam', doc='regularization parameter (>= 0).'): 0.05, Param(parent='NGram_4e3dfc95ea02', name='n', doc='number of elements per n-gram (>=1)'): 3}\n",
      "0.684228390480026\n",
      "\n",
      "{Param(parent='LogisticRegression_063e134a075d', name='regParam', doc='regularization parameter (>= 0).'): 0.1, Param(parent='NGram_4e3dfc95ea02', name='n', doc='number of elements per n-gram (>=1)'): 1}\n",
      "0.9053547458336451\n",
      "\n",
      "{Param(parent='LogisticRegression_063e134a075d', name='regParam', doc='regularization parameter (>= 0).'): 0.1, Param(parent='NGram_4e3dfc95ea02', name='n', doc='number of elements per n-gram (>=1)'): 2}\n",
      "0.8714815285643673\n",
      "\n",
      "{Param(parent='LogisticRegression_063e134a075d', name='regParam', doc='regularization parameter (>= 0).'): 0.1, Param(parent='NGram_4e3dfc95ea02', name='n', doc='number of elements per n-gram (>=1)'): 3}\n",
      "0.6912878978506443\n",
      "\n"
     ]
    }
   ],
   "source": [
    "for i, metrics in enumerate(model.avgMetrics):\n",
    "    print(model.getEstimatorParamMaps()[i])\n",
    "    print(metrics)\n",
    "    print()"
   ]
  },
  {
   "cell_type": "code",
   "execution_count": 58,
   "metadata": {},
   "outputs": [],
   "source": [
    "regParam = [list(x.values())[0] for x in model.getEstimatorParamMaps()]\n",
    "n_grams = [list(x.values())[1] for x in model.getEstimatorParamMaps()]\n",
    "score = model.avgMetrics"
   ]
  },
  {
   "cell_type": "code",
   "execution_count": 64,
   "metadata": {},
   "outputs": [],
   "source": [
    "import numpy as np"
   ]
  },
  {
   "cell_type": "code",
   "execution_count": 91,
   "metadata": {},
   "outputs": [
    {
     "data": {
      "image/png": "[encoded data removed]",
      "text/plain": [
       "<Figure size 504x504 with 2 Axes>"
      ]
     },
     "metadata": {
      "needs_background": "light"
     },
     "output_type": "display_data"
    }
   ],
   "source": [
    "plt.figure(figsize=(7,7))\n",
    "score_array = np.array(score).reshape(3,3)\n",
    "plt.imshow(score_array, cmap=plt.cm.coolwarm_r)\n",
    "plt.xticks([0,1,2], [1,2,3])\n",
    "plt.yticks([0,1,2],[0.01, 0.05, 0.1])\n",
    "plt.colorbar()\n",
    "\n",
    "plt.gca().invert_yaxis()\n",
    "\n",
    "for i in range(3):\n",
    "    for j in range(3):\n",
    "        text = plt.text(j, i, round(score_array[i, j],5),\n",
    "                       ha=\"center\", va=\"center\", color=\"w\", fontsize=15)\n",
    "        \n",
    "plt.xlabel(\"N for n-grams\")\n",
    "plt.ylabel(\"Regularization\")\n",
    "        \n",
    "plt.show()"
   ]
  }
 ],
 "metadata": {
  "kernelspec": {
   "display_name": "Python 3",
   "language": "python",
   "name": "python3"
  },
  "language_info": {
   "codemirror_mode": {
    "name": "ipython",
    "version": 3
   },
   "file_extension": ".py",
   "mimetype": "text/x-python",
   "name": "python",
   "nbconvert_exporter": "python",
   "pygments_lexer": "ipython3",
   "version": "3.7.5"
  }
 },
 "nbformat": 4,
 "nbformat_minor": 4
}
